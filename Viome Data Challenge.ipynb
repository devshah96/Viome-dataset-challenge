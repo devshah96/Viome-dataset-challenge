{
 "cells": [
  {
   "cell_type": "markdown",
   "metadata": {},
   "source": [
    "# Viome Data Challenge"
   ]
  },
  {
   "cell_type": "markdown",
   "metadata": {},
   "source": [
    "The main aim of this report is to understand how to approach a simple problem in the healthcare domain. Two common problems are generally in this domain  are - Class Imbalance and High Dimensionality. In this problem, we observe the latter problem. A few approaches to this problem have been looked at and evaluated in this challenge. This report has been organized in six sections as mentioned below."
   ]
  },
  {
   "cell_type": "markdown",
   "metadata": {},
   "source": [
    "### Index\n",
    "\n",
    "1. Basic Data Analysis\n",
    "2. Baseline Models\n",
    "    - Baseline Model 1 - Logistic Regression\n",
    "    - Baseline Model 2 - Random Forest Classifier\n",
    "3. Feature Selection\n",
    "4. Model Selection and Model Evaluation\n",
    "5. Concluding Remarks\n",
    "6. Future Work"
   ]
  },
  {
   "cell_type": "markdown",
   "metadata": {},
   "source": [
    "### Basic Data Analysis"
   ]
  },
  {
   "cell_type": "code",
   "execution_count": 95,
   "metadata": {},
   "outputs": [],
   "source": [
    "#importing required libraries\n",
    "import pandas as pd\n",
    "import numpy as np\n",
    "import matplotlib.pyplot as plt\n",
    "import seaborn as sns\n",
    "from sklearn.preprocessing import StandardScaler\n",
    "from sklearn.model_selection import train_test_split\n",
    "from sklearn.model_selection import GridSearchCV\n",
    "from sklearn.decomposition import PCA\n",
    "\n",
    "from sklearn.linear_model import LogisticRegression\n",
    "from sklearn.ensemble import RandomForestClassifier\n",
    "from sklearn.svm import SVC\n",
    "\n",
    "from sklearn.feature_selection import SelectFromModel\n",
    "from sklearn.feature_selection import SelectKBest\n",
    "from sklearn.feature_selection import RFE\n",
    "\n",
    "\n",
    "from sklearn.metrics import accuracy_score\n",
    "from sklearn.metrics import f1_score\n",
    "from sklearn.feature_selection import SelectFdr\n",
    "from sklearn.feature_selection import f_classif\n",
    "from sklearn.metrics import roc_auc_score\n",
    "from sklearn.metrics import auc\n",
    "from sklearn.metrics import roc_curve\n",
    "from sklearn.metrics import confusion_matrix"
   ]
  },
  {
   "cell_type": "code",
   "execution_count": 46,
   "metadata": {},
   "outputs": [],
   "source": [
    "#loading .csv files into respective dataframes\n",
    "labels = pd.read_csv('labels.csv')\n",
    "user_ids = pd.read_csv('user_ids.csv')\n",
    "data = pd.read_csv('data.csv')\n",
    "df = pd.read_csv('data_labels_user_id.csv')"
   ]
  },
  {
   "cell_type": "markdown",
   "metadata": {},
   "source": [
    "**Note** : The combined dataset was present and used for this work. There was no need to combine the files."
   ]
  },
  {
   "cell_type": "code",
   "execution_count": 47,
   "metadata": {},
   "outputs": [],
   "source": [
    "#storing the sum of each row in a new column named Total\n",
    "columns =df.columns.tolist()\n",
    "columns.remove('user_id')\n",
    "columns.remove('labels')\n",
    "df['Total'] = df[columns].sum(axis=1)"
   ]
  },
  {
   "cell_type": "code",
   "execution_count": 48,
   "metadata": {},
   "outputs": [],
   "source": [
    "#calculating proportions\n",
    "new_df = df[columns].div(df['Total'], axis=0)\n",
    "X = new_df.values[:,:]\n",
    "y = df['labels'].values"
   ]
  },
  {
   "cell_type": "code",
   "execution_count": 49,
   "metadata": {},
   "outputs": [
    {
     "data": {
      "text/plain": [
       "(array([[0., 0., 0., ..., 0., 0., 0.],\n",
       "        [0., 0., 0., ..., 0., 0., 0.],\n",
       "        [0., 0., 0., ..., 0., 0., 0.],\n",
       "        ...,\n",
       "        [0., 0., 0., ..., 0., 0., 0.],\n",
       "        [0., 0., 0., ..., 0., 0., 0.],\n",
       "        [0., 0., 0., ..., 0., 0., 0.]]), array([1, 1, 0, ..., 1, 1, 1]))"
      ]
     },
     "execution_count": 49,
     "metadata": {},
     "output_type": "execute_result"
    }
   ],
   "source": [
    "# Look at data\n",
    "X,y"
   ]
  },
  {
   "cell_type": "code",
   "execution_count": 50,
   "metadata": {},
   "outputs": [],
   "source": [
    "# Changing the dataframe\n",
    "new_df['user_id'] = df['user_id']\n",
    "new_df['labels'] = df['labels']\n",
    "#reordering the columns\n",
    "col = df.columns.tolist()\n",
    "col.remove('Total')\n",
    "new_df = new_df[col]\n",
    "col.remove('user_id')"
   ]
  },
  {
   "cell_type": "code",
   "execution_count": 51,
   "metadata": {},
   "outputs": [
    {
     "data": {
      "text/html": [
       "<div>\n",
       "<style>\n",
       "    .dataframe thead tr:only-child th {\n",
       "        text-align: right;\n",
       "    }\n",
       "\n",
       "    .dataframe thead th {\n",
       "        text-align: left;\n",
       "    }\n",
       "\n",
       "    .dataframe tbody tr th {\n",
       "        vertical-align: top;\n",
       "    }\n",
       "</style>\n",
       "<table border=\"1\" class=\"dataframe\">\n",
       "  <thead>\n",
       "    <tr style=\"text-align: right;\">\n",
       "      <th></th>\n",
       "      <th>user_id</th>\n",
       "      <th>0</th>\n",
       "      <th>1</th>\n",
       "      <th>2</th>\n",
       "      <th>3</th>\n",
       "      <th>4</th>\n",
       "      <th>5</th>\n",
       "      <th>6</th>\n",
       "      <th>7</th>\n",
       "      <th>8</th>\n",
       "      <th>...</th>\n",
       "      <th>991</th>\n",
       "      <th>992</th>\n",
       "      <th>993</th>\n",
       "      <th>994</th>\n",
       "      <th>995</th>\n",
       "      <th>996</th>\n",
       "      <th>997</th>\n",
       "      <th>998</th>\n",
       "      <th>999</th>\n",
       "      <th>labels</th>\n",
       "    </tr>\n",
       "  </thead>\n",
       "  <tbody>\n",
       "    <tr>\n",
       "      <th>0</th>\n",
       "      <td>546fd0a2-3ed1-11e9-af14-060058a8e501</td>\n",
       "      <td>0.0</td>\n",
       "      <td>0.0</td>\n",
       "      <td>0.0</td>\n",
       "      <td>0.0</td>\n",
       "      <td>0.000000</td>\n",
       "      <td>0.0</td>\n",
       "      <td>0.000000</td>\n",
       "      <td>0.0</td>\n",
       "      <td>0.0</td>\n",
       "      <td>...</td>\n",
       "      <td>0.0</td>\n",
       "      <td>0.00000</td>\n",
       "      <td>0.0</td>\n",
       "      <td>0.0</td>\n",
       "      <td>0.0</td>\n",
       "      <td>0.0</td>\n",
       "      <td>0.000000</td>\n",
       "      <td>0.0</td>\n",
       "      <td>0.0</td>\n",
       "      <td>1</td>\n",
       "    </tr>\n",
       "    <tr>\n",
       "      <th>1</th>\n",
       "      <td>54921d88-3ed1-11e9-857c-060058a8e501</td>\n",
       "      <td>0.0</td>\n",
       "      <td>0.0</td>\n",
       "      <td>0.0</td>\n",
       "      <td>0.0</td>\n",
       "      <td>0.004858</td>\n",
       "      <td>0.0</td>\n",
       "      <td>0.000000</td>\n",
       "      <td>0.0</td>\n",
       "      <td>0.0</td>\n",
       "      <td>...</td>\n",
       "      <td>0.0</td>\n",
       "      <td>0.00000</td>\n",
       "      <td>0.0</td>\n",
       "      <td>0.0</td>\n",
       "      <td>0.0</td>\n",
       "      <td>0.0</td>\n",
       "      <td>0.000000</td>\n",
       "      <td>0.0</td>\n",
       "      <td>0.0</td>\n",
       "      <td>1</td>\n",
       "    </tr>\n",
       "    <tr>\n",
       "      <th>2</th>\n",
       "      <td>547090fa-3ed1-11e9-b20e-060058a8e501</td>\n",
       "      <td>0.0</td>\n",
       "      <td>0.0</td>\n",
       "      <td>0.0</td>\n",
       "      <td>0.0</td>\n",
       "      <td>0.041481</td>\n",
       "      <td>0.0</td>\n",
       "      <td>0.016572</td>\n",
       "      <td>0.0</td>\n",
       "      <td>0.0</td>\n",
       "      <td>...</td>\n",
       "      <td>0.0</td>\n",
       "      <td>0.00058</td>\n",
       "      <td>0.0</td>\n",
       "      <td>0.0</td>\n",
       "      <td>0.0</td>\n",
       "      <td>0.0</td>\n",
       "      <td>0.000000</td>\n",
       "      <td>0.0</td>\n",
       "      <td>0.0</td>\n",
       "      <td>0</td>\n",
       "    </tr>\n",
       "    <tr>\n",
       "      <th>3</th>\n",
       "      <td>54921180-3ed1-11e9-8bb6-060058a8e501</td>\n",
       "      <td>0.0</td>\n",
       "      <td>0.0</td>\n",
       "      <td>0.0</td>\n",
       "      <td>0.0</td>\n",
       "      <td>0.020696</td>\n",
       "      <td>0.0</td>\n",
       "      <td>0.000000</td>\n",
       "      <td>0.0</td>\n",
       "      <td>0.0</td>\n",
       "      <td>...</td>\n",
       "      <td>0.0</td>\n",
       "      <td>0.00000</td>\n",
       "      <td>0.0</td>\n",
       "      <td>0.0</td>\n",
       "      <td>0.0</td>\n",
       "      <td>0.0</td>\n",
       "      <td>0.000004</td>\n",
       "      <td>0.0</td>\n",
       "      <td>0.0</td>\n",
       "      <td>1</td>\n",
       "    </tr>\n",
       "    <tr>\n",
       "      <th>4</th>\n",
       "      <td>548eff9a-3ed1-11e9-b691-060058a8e501</td>\n",
       "      <td>0.0</td>\n",
       "      <td>0.0</td>\n",
       "      <td>0.0</td>\n",
       "      <td>0.0</td>\n",
       "      <td>0.000000</td>\n",
       "      <td>0.0</td>\n",
       "      <td>0.000000</td>\n",
       "      <td>0.0</td>\n",
       "      <td>0.0</td>\n",
       "      <td>...</td>\n",
       "      <td>0.0</td>\n",
       "      <td>0.00000</td>\n",
       "      <td>0.0</td>\n",
       "      <td>0.0</td>\n",
       "      <td>0.0</td>\n",
       "      <td>0.0</td>\n",
       "      <td>0.000000</td>\n",
       "      <td>0.0</td>\n",
       "      <td>0.0</td>\n",
       "      <td>1</td>\n",
       "    </tr>\n",
       "  </tbody>\n",
       "</table>\n",
       "<p>5 rows × 1002 columns</p>\n",
       "</div>"
      ],
      "text/plain": [
       "                                user_id    0    1    2    3         4    5  \\\n",
       "0  546fd0a2-3ed1-11e9-af14-060058a8e501  0.0  0.0  0.0  0.0  0.000000  0.0   \n",
       "1  54921d88-3ed1-11e9-857c-060058a8e501  0.0  0.0  0.0  0.0  0.004858  0.0   \n",
       "2  547090fa-3ed1-11e9-b20e-060058a8e501  0.0  0.0  0.0  0.0  0.041481  0.0   \n",
       "3  54921180-3ed1-11e9-8bb6-060058a8e501  0.0  0.0  0.0  0.0  0.020696  0.0   \n",
       "4  548eff9a-3ed1-11e9-b691-060058a8e501  0.0  0.0  0.0  0.0  0.000000  0.0   \n",
       "\n",
       "          6    7    8   ...    991      992  993  994  995  996       997  \\\n",
       "0  0.000000  0.0  0.0   ...    0.0  0.00000  0.0  0.0  0.0  0.0  0.000000   \n",
       "1  0.000000  0.0  0.0   ...    0.0  0.00000  0.0  0.0  0.0  0.0  0.000000   \n",
       "2  0.016572  0.0  0.0   ...    0.0  0.00058  0.0  0.0  0.0  0.0  0.000000   \n",
       "3  0.000000  0.0  0.0   ...    0.0  0.00000  0.0  0.0  0.0  0.0  0.000004   \n",
       "4  0.000000  0.0  0.0   ...    0.0  0.00000  0.0  0.0  0.0  0.0  0.000000   \n",
       "\n",
       "   998  999  labels  \n",
       "0  0.0  0.0       1  \n",
       "1  0.0  0.0       1  \n",
       "2  0.0  0.0       0  \n",
       "3  0.0  0.0       1  \n",
       "4  0.0  0.0       1  \n",
       "\n",
       "[5 rows x 1002 columns]"
      ]
     },
     "execution_count": 51,
     "metadata": {},
     "output_type": "execute_result"
    }
   ],
   "source": [
    "# Top 5 rows of data\n",
    "new_df.head()"
   ]
  },
  {
   "cell_type": "code",
   "execution_count": 52,
   "metadata": {},
   "outputs": [
    {
     "data": {
      "text/plain": [
       "4775"
      ]
     },
     "execution_count": 52,
     "metadata": {},
     "output_type": "execute_result"
    }
   ],
   "source": [
    "sum(new_df['user_id'].value_counts()==2)"
   ]
  },
  {
   "cell_type": "code",
   "execution_count": 53,
   "metadata": {},
   "outputs": [
    {
     "data": {
      "text/plain": [
       "45225"
      ]
     },
     "execution_count": 53,
     "metadata": {},
     "output_type": "execute_result"
    }
   ],
   "source": [
    "sum(new_df['user_id'].value_counts()==1)"
   ]
  },
  {
   "cell_type": "markdown",
   "metadata": {},
   "source": [
    "The data has 4775 user_ids which have two samples and 45225 samples which have a single sample."
   ]
  },
  {
   "cell_type": "code",
   "execution_count": 54,
   "metadata": {
    "scrolled": true
   },
   "outputs": [
    {
     "data": {
      "text/html": [
       "<div>\n",
       "<style>\n",
       "    .dataframe thead tr:only-child th {\n",
       "        text-align: right;\n",
       "    }\n",
       "\n",
       "    .dataframe thead th {\n",
       "        text-align: left;\n",
       "    }\n",
       "\n",
       "    .dataframe tbody tr th {\n",
       "        vertical-align: top;\n",
       "    }\n",
       "</style>\n",
       "<table border=\"1\" class=\"dataframe\">\n",
       "  <thead>\n",
       "    <tr style=\"text-align: right;\">\n",
       "      <th></th>\n",
       "      <th>0</th>\n",
       "      <th>1</th>\n",
       "      <th>2</th>\n",
       "      <th>3</th>\n",
       "      <th>4</th>\n",
       "      <th>5</th>\n",
       "      <th>6</th>\n",
       "      <th>7</th>\n",
       "      <th>8</th>\n",
       "      <th>9</th>\n",
       "      <th>...</th>\n",
       "      <th>991</th>\n",
       "      <th>992</th>\n",
       "      <th>993</th>\n",
       "      <th>994</th>\n",
       "      <th>995</th>\n",
       "      <th>996</th>\n",
       "      <th>997</th>\n",
       "      <th>998</th>\n",
       "      <th>999</th>\n",
       "      <th>labels</th>\n",
       "    </tr>\n",
       "  </thead>\n",
       "  <tbody>\n",
       "    <tr>\n",
       "      <th>count</th>\n",
       "      <td>54775.000000</td>\n",
       "      <td>54775.000000</td>\n",
       "      <td>54775.000000</td>\n",
       "      <td>54775.000000</td>\n",
       "      <td>54775.000000</td>\n",
       "      <td>54775.000000</td>\n",
       "      <td>54775.000000</td>\n",
       "      <td>54775.000000</td>\n",
       "      <td>5.477500e+04</td>\n",
       "      <td>54775.000000</td>\n",
       "      <td>...</td>\n",
       "      <td>54775.000000</td>\n",
       "      <td>54775.000000</td>\n",
       "      <td>54775.000000</td>\n",
       "      <td>54775.000000</td>\n",
       "      <td>54775.000000</td>\n",
       "      <td>54775.000000</td>\n",
       "      <td>54775.000000</td>\n",
       "      <td>54775.000000</td>\n",
       "      <td>54775.000000</td>\n",
       "      <td>54775.000000</td>\n",
       "    </tr>\n",
       "    <tr>\n",
       "      <th>mean</th>\n",
       "      <td>0.000002</td>\n",
       "      <td>0.001457</td>\n",
       "      <td>0.004885</td>\n",
       "      <td>0.000202</td>\n",
       "      <td>0.003500</td>\n",
       "      <td>0.000032</td>\n",
       "      <td>0.000682</td>\n",
       "      <td>0.000676</td>\n",
       "      <td>9.878475e-07</td>\n",
       "      <td>0.001263</td>\n",
       "      <td>...</td>\n",
       "      <td>0.000129</td>\n",
       "      <td>0.002517</td>\n",
       "      <td>0.000142</td>\n",
       "      <td>0.000191</td>\n",
       "      <td>0.001064</td>\n",
       "      <td>0.000221</td>\n",
       "      <td>0.001594</td>\n",
       "      <td>0.000035</td>\n",
       "      <td>0.000034</td>\n",
       "      <td>0.556860</td>\n",
       "    </tr>\n",
       "    <tr>\n",
       "      <th>std</th>\n",
       "      <td>0.000209</td>\n",
       "      <td>0.012198</td>\n",
       "      <td>0.021547</td>\n",
       "      <td>0.003768</td>\n",
       "      <td>0.018637</td>\n",
       "      <td>0.001613</td>\n",
       "      <td>0.007898</td>\n",
       "      <td>0.007845</td>\n",
       "      <td>1.347670e-04</td>\n",
       "      <td>0.010681</td>\n",
       "      <td>...</td>\n",
       "      <td>0.003168</td>\n",
       "      <td>0.016144</td>\n",
       "      <td>0.004014</td>\n",
       "      <td>0.004157</td>\n",
       "      <td>0.009678</td>\n",
       "      <td>0.004621</td>\n",
       "      <td>0.010368</td>\n",
       "      <td>0.001642</td>\n",
       "      <td>0.001690</td>\n",
       "      <td>0.496761</td>\n",
       "    </tr>\n",
       "    <tr>\n",
       "      <th>min</th>\n",
       "      <td>0.000000</td>\n",
       "      <td>0.000000</td>\n",
       "      <td>0.000000</td>\n",
       "      <td>0.000000</td>\n",
       "      <td>0.000000</td>\n",
       "      <td>0.000000</td>\n",
       "      <td>0.000000</td>\n",
       "      <td>0.000000</td>\n",
       "      <td>0.000000e+00</td>\n",
       "      <td>0.000000</td>\n",
       "      <td>...</td>\n",
       "      <td>0.000000</td>\n",
       "      <td>0.000000</td>\n",
       "      <td>0.000000</td>\n",
       "      <td>0.000000</td>\n",
       "      <td>0.000000</td>\n",
       "      <td>0.000000</td>\n",
       "      <td>0.000000</td>\n",
       "      <td>0.000000</td>\n",
       "      <td>0.000000</td>\n",
       "      <td>0.000000</td>\n",
       "    </tr>\n",
       "    <tr>\n",
       "      <th>25%</th>\n",
       "      <td>0.000000</td>\n",
       "      <td>0.000000</td>\n",
       "      <td>0.000000</td>\n",
       "      <td>0.000000</td>\n",
       "      <td>0.000000</td>\n",
       "      <td>0.000000</td>\n",
       "      <td>0.000000</td>\n",
       "      <td>0.000000</td>\n",
       "      <td>0.000000e+00</td>\n",
       "      <td>0.000000</td>\n",
       "      <td>...</td>\n",
       "      <td>0.000000</td>\n",
       "      <td>0.000000</td>\n",
       "      <td>0.000000</td>\n",
       "      <td>0.000000</td>\n",
       "      <td>0.000000</td>\n",
       "      <td>0.000000</td>\n",
       "      <td>0.000000</td>\n",
       "      <td>0.000000</td>\n",
       "      <td>0.000000</td>\n",
       "      <td>0.000000</td>\n",
       "    </tr>\n",
       "    <tr>\n",
       "      <th>50%</th>\n",
       "      <td>0.000000</td>\n",
       "      <td>0.000000</td>\n",
       "      <td>0.000000</td>\n",
       "      <td>0.000000</td>\n",
       "      <td>0.000000</td>\n",
       "      <td>0.000000</td>\n",
       "      <td>0.000000</td>\n",
       "      <td>0.000000</td>\n",
       "      <td>0.000000e+00</td>\n",
       "      <td>0.000000</td>\n",
       "      <td>...</td>\n",
       "      <td>0.000000</td>\n",
       "      <td>0.000000</td>\n",
       "      <td>0.000000</td>\n",
       "      <td>0.000000</td>\n",
       "      <td>0.000000</td>\n",
       "      <td>0.000000</td>\n",
       "      <td>0.000000</td>\n",
       "      <td>0.000000</td>\n",
       "      <td>0.000000</td>\n",
       "      <td>1.000000</td>\n",
       "    </tr>\n",
       "    <tr>\n",
       "      <th>75%</th>\n",
       "      <td>0.000000</td>\n",
       "      <td>0.000000</td>\n",
       "      <td>0.000001</td>\n",
       "      <td>0.000000</td>\n",
       "      <td>0.000006</td>\n",
       "      <td>0.000000</td>\n",
       "      <td>0.000000</td>\n",
       "      <td>0.000000</td>\n",
       "      <td>0.000000e+00</td>\n",
       "      <td>0.000000</td>\n",
       "      <td>...</td>\n",
       "      <td>0.000000</td>\n",
       "      <td>0.000000</td>\n",
       "      <td>0.000000</td>\n",
       "      <td>0.000000</td>\n",
       "      <td>0.000000</td>\n",
       "      <td>0.000000</td>\n",
       "      <td>0.000000</td>\n",
       "      <td>0.000000</td>\n",
       "      <td>0.000000</td>\n",
       "      <td>1.000000</td>\n",
       "    </tr>\n",
       "    <tr>\n",
       "      <th>max</th>\n",
       "      <td>0.037977</td>\n",
       "      <td>0.443544</td>\n",
       "      <td>0.486989</td>\n",
       "      <td>0.225908</td>\n",
       "      <td>0.428083</td>\n",
       "      <td>0.196097</td>\n",
       "      <td>0.436671</td>\n",
       "      <td>0.356488</td>\n",
       "      <td>2.343660e-02</td>\n",
       "      <td>0.441560</td>\n",
       "      <td>...</td>\n",
       "      <td>0.200887</td>\n",
       "      <td>0.520523</td>\n",
       "      <td>0.288720</td>\n",
       "      <td>0.277607</td>\n",
       "      <td>0.373139</td>\n",
       "      <td>0.350776</td>\n",
       "      <td>0.272583</td>\n",
       "      <td>0.223409</td>\n",
       "      <td>0.187166</td>\n",
       "      <td>1.000000</td>\n",
       "    </tr>\n",
       "  </tbody>\n",
       "</table>\n",
       "<p>8 rows × 1001 columns</p>\n",
       "</div>"
      ],
      "text/plain": [
       "                  0             1             2             3             4  \\\n",
       "count  54775.000000  54775.000000  54775.000000  54775.000000  54775.000000   \n",
       "mean       0.000002      0.001457      0.004885      0.000202      0.003500   \n",
       "std        0.000209      0.012198      0.021547      0.003768      0.018637   \n",
       "min        0.000000      0.000000      0.000000      0.000000      0.000000   \n",
       "25%        0.000000      0.000000      0.000000      0.000000      0.000000   \n",
       "50%        0.000000      0.000000      0.000000      0.000000      0.000000   \n",
       "75%        0.000000      0.000000      0.000001      0.000000      0.000006   \n",
       "max        0.037977      0.443544      0.486989      0.225908      0.428083   \n",
       "\n",
       "                  5             6             7             8             9  \\\n",
       "count  54775.000000  54775.000000  54775.000000  5.477500e+04  54775.000000   \n",
       "mean       0.000032      0.000682      0.000676  9.878475e-07      0.001263   \n",
       "std        0.001613      0.007898      0.007845  1.347670e-04      0.010681   \n",
       "min        0.000000      0.000000      0.000000  0.000000e+00      0.000000   \n",
       "25%        0.000000      0.000000      0.000000  0.000000e+00      0.000000   \n",
       "50%        0.000000      0.000000      0.000000  0.000000e+00      0.000000   \n",
       "75%        0.000000      0.000000      0.000000  0.000000e+00      0.000000   \n",
       "max        0.196097      0.436671      0.356488  2.343660e-02      0.441560   \n",
       "\n",
       "           ...                991           992           993           994  \\\n",
       "count      ...       54775.000000  54775.000000  54775.000000  54775.000000   \n",
       "mean       ...           0.000129      0.002517      0.000142      0.000191   \n",
       "std        ...           0.003168      0.016144      0.004014      0.004157   \n",
       "min        ...           0.000000      0.000000      0.000000      0.000000   \n",
       "25%        ...           0.000000      0.000000      0.000000      0.000000   \n",
       "50%        ...           0.000000      0.000000      0.000000      0.000000   \n",
       "75%        ...           0.000000      0.000000      0.000000      0.000000   \n",
       "max        ...           0.200887      0.520523      0.288720      0.277607   \n",
       "\n",
       "                995           996           997           998           999  \\\n",
       "count  54775.000000  54775.000000  54775.000000  54775.000000  54775.000000   \n",
       "mean       0.001064      0.000221      0.001594      0.000035      0.000034   \n",
       "std        0.009678      0.004621      0.010368      0.001642      0.001690   \n",
       "min        0.000000      0.000000      0.000000      0.000000      0.000000   \n",
       "25%        0.000000      0.000000      0.000000      0.000000      0.000000   \n",
       "50%        0.000000      0.000000      0.000000      0.000000      0.000000   \n",
       "75%        0.000000      0.000000      0.000000      0.000000      0.000000   \n",
       "max        0.373139      0.350776      0.272583      0.223409      0.187166   \n",
       "\n",
       "             labels  \n",
       "count  54775.000000  \n",
       "mean       0.556860  \n",
       "std        0.496761  \n",
       "min        0.000000  \n",
       "25%        0.000000  \n",
       "50%        1.000000  \n",
       "75%        1.000000  \n",
       "max        1.000000  \n",
       "\n",
       "[8 rows x 1001 columns]"
      ]
     },
     "execution_count": 54,
     "metadata": {},
     "output_type": "execute_result"
    }
   ],
   "source": [
    "# understanding statistics of new_df\n",
    "new_df.describe()"
   ]
  },
  {
   "cell_type": "markdown",
   "metadata": {},
   "source": [
    "It can be seen above that our data does not contain any missing values. However, our data does contain many features which have a very high difference between the mean and maximum. Hence, min max scaling cannot be used to scale the data as it is very sensitive to outliers. It can be seen that the data has 1000 features (high dimensionality) and is very sparse. This type of data (bacterial species, genes, biomarkers etc.) is prevalant in the healthcare domain."
   ]
  },
  {
   "cell_type": "markdown",
   "metadata": {},
   "source": [
    "##### Check for balanced classes "
   ]
  },
  {
   "cell_type": "code",
   "execution_count": 55,
   "metadata": {
    "scrolled": true
   },
   "outputs": [
    {
     "data": {
      "image/png": "[encoded data removed]",
      "text/plain": [
       "<Figure size 432x288 with 1 Axes>"
      ]
     },
     "metadata": {},
     "output_type": "display_data"
    }
   ],
   "source": [
    "#plotting the number of 1's and 0's in the labels column\n",
    "fig,ax = plt.subplots()\n",
    "ax = sns.countplot(x='labels', data=new_df)\n",
    "for i in ax.patches:\n",
    "    height = i.get_height()\n",
    "    percent = height*100/float(len(df))\n",
    "    ax.text(i.get_x()+i.get_width()/2,height+0.5,\"%d (%.2f\" % (height,percent)+\"%)\", ha = \"center\", va = \"bottom\", fontsize = 9)\n",
    "    ax.set_title(\"Presence of Disease\")"
   ]
  },
  {
   "cell_type": "markdown",
   "metadata": {},
   "source": [
    "Before solving the classification problem it is important to check for balanaced classes. The above figure tells us that we have a balanced dataset i.e. approximately the same number of 1 and 0 labels."
   ]
  },
  {
   "cell_type": "markdown",
   "metadata": {},
   "source": [
    "## Baseline Models"
   ]
  },
  {
   "cell_type": "markdown",
   "metadata": {},
   "source": [
    "To get a baseline estimate, I will train basic learning models to understand how well the data works with various models. As this is work on baseline, the models have will be trained on all the features.\n",
    "\n",
    "The data has been standardized because all the features have different ranges as can be seen when using the describe method.\n",
    "Also, the testing data has been standardized using the mean and variance of the training data. This is done because the testing data represents unseen data similar to what happens in the real world."
   ]
  },
  {
   "cell_type": "code",
   "execution_count": 56,
   "metadata": {},
   "outputs": [],
   "source": [
    "#Splitting data for training and testing\n",
    "X_train, X_test, y_train, y_test = train_test_split(X,y,test_size=0.2, random_state = 1)\n",
    "\n",
    "scaled_X = StandardScaler().fit(X_train)\n",
    "X_train_std = scaled_X.transform(X_train)\n",
    "X_test_std = scaled_X.transform(X_test)"
   ]
  },
  {
   "cell_type": "markdown",
   "metadata": {},
   "source": [
    "##### Baseline Model 1 - Logistic Regression "
   ]
  },
  {
   "cell_type": "code",
   "execution_count": 87,
   "metadata": {},
   "outputs": [
    {
     "data": {
      "text/plain": [
       "array([[-7.90103186e-02,  1.47478174e-01, -2.23213488e-02,\n",
       "         1.16161845e-01, -2.15909210e-01,  1.14923521e-01,\n",
       "         5.49841514e-02,  6.04366269e-02, -4.81460089e-02,\n",
       "        -7.88326637e-02, -4.68423711e-02,  7.76264884e-02,\n",
       "        -3.58961026e-02, -6.36329273e-03,  1.67873561e-02,\n",
       "         2.06050806e-02,  1.28789075e-01,  1.13450253e-02,\n",
       "         4.54163173e-02,  4.28897890e-02, -5.97798697e-02,\n",
       "        -1.30144185e-01,  4.31731823e-02,  2.80288367e-02,\n",
       "         5.71322263e-02,  1.51202430e-03, -4.86719319e-02,\n",
       "         4.33063165e-03,  5.35432986e-02, -2.98053466e-02,\n",
       "        -3.24876362e-02, -1.12301524e-01,  1.46037920e-01,\n",
       "        -7.28466851e-02, -7.68708478e-02,  5.79657549e-02,\n",
       "        -4.26507836e-02, -1.33991991e-02,  1.50791089e-01,\n",
       "         5.17469931e-02,  1.77229563e-01,  1.67806946e-02,\n",
       "        -7.89625449e-02,  2.29545725e-02,  2.79017342e-02,\n",
       "        -1.32704906e-02, -5.52232878e-02,  5.12298397e-02,\n",
       "        -7.80935469e-02, -1.12733353e-01,  5.71907048e-02,\n",
       "        -1.69341278e-01, -5.41487678e-02,  5.50154150e-02,\n",
       "        -3.08802198e-01,  3.45646966e-02,  1.60338520e-02,\n",
       "         1.47526324e-01, -2.88669571e-01,  1.13028033e-01,\n",
       "        -9.27397732e-02, -4.74213265e-02,  2.55015212e-02,\n",
       "         1.11899931e-01,  4.60487360e-02,  4.51483903e-02,\n",
       "         1.24491846e-02, -1.27245657e-02, -4.00318226e-02,\n",
       "        -9.24666986e-02,  2.76067689e-02, -1.12099281e-01,\n",
       "         5.29609784e-02,  6.64968019e-02, -1.35146852e-01,\n",
       "         4.33225597e-02,  2.78390349e-02,  1.24828029e-01,\n",
       "         3.87088554e-02,  1.85169171e-02,  9.27000189e-03,\n",
       "         5.88350772e-02, -6.60184934e-02, -7.80944784e-02,\n",
       "        -6.26732346e-02,  9.76298244e-02, -1.12517298e-02,\n",
       "        -1.29629160e-01,  2.83901981e-02,  1.27110947e-01,\n",
       "        -5.04051759e-02, -1.58171785e-01,  4.77832511e-02,\n",
       "         1.71729560e-03,  7.68837875e-02, -1.08293257e-01,\n",
       "         6.66550270e-02,  8.67144892e-02,  7.89425333e-02,\n",
       "         5.47175492e-02,  5.22897596e-02, -5.11450949e-02,\n",
       "        -9.28991718e-02, -5.60272715e-02, -4.95735051e-02,\n",
       "         2.10938829e-01,  3.04785157e-02, -5.67217723e-02,\n",
       "        -4.01637808e-02,  1.16583180e-01,  3.39401632e-02,\n",
       "        -5.29760129e-02, -5.69625321e-02, -2.41750963e-02,\n",
       "        -2.00371216e-01,  2.62093009e-01, -3.81381056e-02,\n",
       "        -1.57863869e-01, -1.53119167e-01, -2.19070293e-02,\n",
       "         6.51517749e-02, -2.01729203e-01,  4.03927250e-02,\n",
       "         9.01115674e-02, -1.59244941e-02,  6.53622524e-02,\n",
       "        -9.44799274e-02,  1.49848298e-01,  7.88246394e-02,\n",
       "         6.53463891e-02, -7.10624938e-02, -1.18798592e-01,\n",
       "         6.83171993e-02,  5.84275353e-02, -7.61058329e-02,\n",
       "        -2.10060146e-02,  4.38752739e-02,  7.31736600e-02,\n",
       "         6.05821085e-02,  4.77231702e-02,  1.05941117e-01,\n",
       "         1.08770269e-01, -7.56376798e-02,  1.36659130e-01,\n",
       "        -1.17124397e-02,  8.11142934e-02, -7.32687007e-03,\n",
       "         1.06344498e-01, -6.75887249e-02,  7.36140235e-02,\n",
       "         4.49227608e-02, -5.28778576e-02, -7.32785149e-02,\n",
       "         6.33571208e-02,  4.24212710e-02,  5.13987383e-02,\n",
       "         4.65434826e-02,  4.16844602e-02,  6.06208326e-02,\n",
       "        -1.73090074e-01,  4.90736563e-02,  3.42529497e-01,\n",
       "         2.83735689e-02,  9.48196407e-02,  1.50607649e-01,\n",
       "        -3.52493510e-02,  3.97174350e-02,  9.32514866e-02,\n",
       "        -7.61422283e-02,  1.04652341e-01, -1.63436046e-01,\n",
       "         3.21406549e-02, -9.68980341e-02, -8.32054279e-02,\n",
       "        -1.16769260e-02, -6.66600064e-02, -5.36889591e-02,\n",
       "         1.85535833e-01, -9.49032164e-02, -8.09862859e-03,\n",
       "        -1.18733526e-01, -5.63055886e-02,  7.73220248e-02,\n",
       "         9.28567712e-03, -6.18674364e-02, -3.89341891e-01,\n",
       "         1.46562461e-02, -7.29670561e-02,  3.54818883e-02,\n",
       "         7.53267942e-02, -1.14589516e-01, -1.38223719e-01,\n",
       "         1.74285059e-01, -7.35283026e-02, -5.97085939e-02,\n",
       "         1.74731690e-02,  9.02560356e-02, -1.05173978e-01,\n",
       "         3.92755534e-02,  6.59195318e-02, -9.63968837e-02,\n",
       "        -2.40225340e-01, -3.26044484e-02,  9.50976865e-02,\n",
       "        -1.94515807e-01, -6.89300332e-04,  2.35907058e-01,\n",
       "        -2.53688173e-01,  1.20888525e-01, -3.18953299e-02,\n",
       "        -7.96468207e-02,  1.58010387e-01,  8.67662881e-02,\n",
       "        -9.19404778e-02,  7.26277322e-02, -4.48713123e-02,\n",
       "        -1.60803436e-01, -1.02329852e-01, -7.05513048e-02,\n",
       "         1.04036969e-01, -6.41252691e-02, -4.51355098e-02,\n",
       "        -2.14284896e-01, -1.82971411e-01,  1.06972674e-01,\n",
       "         7.33072642e-02, -6.21296768e-02,  8.87357982e-02,\n",
       "         3.31128484e-02, -4.95134196e-02,  7.26090331e-02,\n",
       "         9.62131043e-02, -3.91291719e-02,  4.51948149e-02,\n",
       "        -4.55814445e-02, -6.84711388e-02, -2.86832767e-03,\n",
       "        -1.70361601e-01,  4.74686676e-02,  1.46474478e-01,\n",
       "        -1.23353339e-02,  2.47600514e-02, -2.92368189e-02,\n",
       "         1.28695300e-01,  1.34907704e-01, -3.08112370e-02,\n",
       "         4.35111776e-02, -1.03918079e-01, -2.31561982e-02,\n",
       "         2.65085116e-02,  6.40221881e-02,  3.83559136e-02,\n",
       "        -1.47004038e-01, -5.07294447e-02, -6.86753471e-02,\n",
       "         5.97687241e-02, -8.06813279e-02, -2.33101218e-03,\n",
       "         1.40569208e-01,  6.11391265e-02,  3.94390295e-02,\n",
       "        -9.61657988e-03,  1.44596097e-01,  6.30920855e-03,\n",
       "        -8.48095390e-03,  8.54116961e-02, -1.13423680e-02,\n",
       "         5.11227767e-02, -1.69807348e-01, -5.64206314e-02,\n",
       "         3.32817149e-02, -4.38081628e-02, -3.81525758e-02,\n",
       "        -9.13895283e-02,  1.06056294e-01, -1.03551320e-01,\n",
       "        -8.08557397e-02,  5.86763096e-02,  1.78162257e-01,\n",
       "         6.57854904e-02, -1.72229816e-01, -6.70138347e-02,\n",
       "        -9.42670794e-02, -1.92922048e-02,  1.02194810e-01,\n",
       "         4.30840257e-02,  1.08540781e-01,  1.00163233e-01,\n",
       "        -3.93738258e-02, -9.82269823e-02, -8.88950787e-02,\n",
       "        -6.60255983e-02,  5.15193692e-02,  9.41853045e-02,\n",
       "        -4.74987846e-02,  7.13769040e-02, -2.44497841e-02,\n",
       "        -4.94219341e-02, -2.36901112e-02, -3.05968902e-02,\n",
       "        -5.70688862e-02,  6.08208746e-02,  1.15134361e-01,\n",
       "         1.26262945e-01,  5.51948283e-02,  6.35852830e-02,\n",
       "         4.02336868e-02,  1.10252145e-01,  7.77267796e-02,\n",
       "         4.67763988e-02,  3.94640574e-02,  1.41627137e-02,\n",
       "        -4.72753902e-02, -7.24091625e-02, -7.95801369e-02,\n",
       "         1.20183986e-01, -9.13850221e-02, -1.29279112e-01,\n",
       "         2.08095326e-01, -7.36600452e-02,  9.64095392e-02,\n",
       "        -3.84137465e-01, -3.00570588e-02,  2.26994178e-01,\n",
       "         1.53536201e-01, -1.11608605e-02,  5.25946335e-02,\n",
       "         6.81233720e-02,  7.61479666e-02, -7.20074996e-02,\n",
       "        -8.43544392e-02,  1.15988865e-01, -5.21286307e-02,\n",
       "        -1.96794975e-01, -1.20068313e-01,  2.77881641e-02,\n",
       "        -5.10463256e-02, -3.10870948e-02, -5.43125175e-02,\n",
       "         2.51597485e-02,  2.32162917e-01,  7.24966593e-02,\n",
       "        -7.28888879e-02, -5.32887994e-02,  4.55621202e-03,\n",
       "        -5.74848448e-02, -7.86930944e-02,  1.19867202e-01,\n",
       "        -6.97685751e-04, -2.41893768e-02,  4.29881948e-02,\n",
       "        -2.73165405e-01,  5.30936010e-02, -1.56640629e-01,\n",
       "        -1.56294431e-01, -8.13725837e-02,  2.04854220e-02,\n",
       "         4.65171425e-02,  5.10337110e-02, -4.27556290e-02,\n",
       "         3.43742854e-01,  1.02133725e-01, -3.80382001e-02,\n",
       "        -1.06985921e-01,  2.88450670e-02, -3.19146761e-02,\n",
       "        -5.99114778e-02, -7.88179289e-02,  8.89164117e-02,\n",
       "         9.28673450e-02, -1.02914833e-01,  1.48210339e-01,\n",
       "         1.19234416e-01,  7.97400765e-02, -5.48133645e-02,\n",
       "         7.66960872e-02, -7.14371890e-02,  3.02918518e-02,\n",
       "         5.04318195e-01, -7.54352438e-02,  5.37824654e-02,\n",
       "         1.37839058e-01,  3.18441202e-02,  9.04336036e-02,\n",
       "         1.00339690e-01,  3.21049859e-02, -1.98172722e-02,\n",
       "         3.57552586e-02, -8.15528644e-02, -1.92399225e-01,\n",
       "         7.32168720e-02,  1.02015301e-01, -2.69567267e-02,\n",
       "         2.07876235e-02,  5.28517686e-02,  4.23012690e-02,\n",
       "         1.33180510e-01,  3.65698658e-01,  1.00002576e-01,\n",
       "        -3.34857255e-03,  2.55772521e-01, -1.35203799e-01,\n",
       "        -6.55911312e-02,  2.47848985e-02,  7.56929785e-02,\n",
       "        -9.43376750e-03, -1.01892282e-01,  8.79049127e-02,\n",
       "         2.83469290e-02,  5.61363631e-02, -5.23242575e-02,\n",
       "        -6.77763710e-02, -4.01851729e-02,  2.84494465e-02,\n",
       "        -5.96084380e-02, -6.60474150e-02, -3.81397828e-02,\n",
       "         1.06648188e-04, -2.79857856e-02]])"
      ]
     },
     "execution_count": 87,
     "metadata": {},
     "output_type": "execute_result"
    }
   ],
   "source": [
    "#Logistic Regression\n",
    "logistic_regression = LogisticRegression(random_state = 0, solver = 'sag').fit(X_train_std,y_train)\n",
    "logistic_regression.coef_"
   ]
  },
  {
   "cell_type": "code",
   "execution_count": 89,
   "metadata": {},
   "outputs": [
    {
     "name": "stdout",
     "output_type": "stream",
     "text": [
      "Training accuracy score : 0.7797124600638977\n",
      "Testing accuracy score : 0.7740757644910999\n"
     ]
    }
   ],
   "source": [
    "y_pred = logistic_regression.predict(X_test_std)\n",
    "print(\"Training accuracy score :\", accuracy_score(y_train,logistic_regression.predict(X_train_std)))\n",
    "print(\"Testing accuracy score :\", accuracy_score(y_test,y_pred))"
   ]
  },
  {
   "cell_type": "markdown",
   "metadata": {},
   "source": [
    "###### Observations on baseline model 1\n",
    "\n",
    "When analyzing the coefficients for each of the features using Logistic Regression, we see that all the features have a non zero coefficient but some very large and some small. Since the number of features are really large, there is always a possibility that a few features might be more important and a few might be just be noise. Hence, feature selection is an important step in building any predictive model. "
   ]
  },
  {
   "cell_type": "markdown",
   "metadata": {},
   "source": [
    "##### Baseline Model 2 - Random Forest Classifer"
   ]
  },
  {
   "cell_type": "code",
   "execution_count": 14,
   "metadata": {},
   "outputs": [
    {
     "name": "stdout",
     "output_type": "stream",
     "text": [
      "Training accuracy score : 1.0\n",
      "Testing accuracy score : 0.775627567320858\n"
     ]
    }
   ],
   "source": [
    "#Random Forests\n",
    "random_forests = RandomForestClassifier(n_estimators = 300).fit(X_train_std,y_train)\n",
    "y_pred = random_forests.predict(X_test_std)\n",
    "print(\"Training accuracy score :\", accuracy_score(y_train, random_forests.predict(X_train_std)))\n",
    "print(\"Testing accuracy score :\", accuracy_score(y_test,y_pred))"
   ]
  },
  {
   "cell_type": "code",
   "execution_count": 15,
   "metadata": {},
   "outputs": [],
   "source": [
    "#finding the optimal depth d\n",
    "acc_train =[]\n",
    "acc_test = []\n",
    "for i in range(5,25,2):\n",
    "    random_forests = RandomForestClassifier(n_estimators = 300, max_depth =i).fit(X_train_std,y_train)\n",
    "    y_pred = random_forests.predict(X_test_std)\n",
    "    acc_train.append(accuracy_score(y_train,random_forests.predict(X_train_std)))\n",
    "    acc_test.append(accuracy_score(y_test,y_pred))"
   ]
  },
  {
   "cell_type": "code",
   "execution_count": 16,
   "metadata": {},
   "outputs": [
    {
     "data": {
      "text/plain": [
       "Text(0.5,1,'Random Forest Feature Selection')"
      ]
     },
     "execution_count": 16,
     "metadata": {},
     "output_type": "execute_result"
    },
    {
     "data": {
      "image/png": "[encoded data removed]",
      "text/plain": [
       "<Figure size 432x288 with 1 Axes>"
      ]
     },
     "metadata": {},
     "output_type": "display_data"
    }
   ],
   "source": [
    "plt.plot(range(5,25,2),acc_train,label='Training Accuracy')\n",
    "plt.plot(range(5,25,2),acc_test,label='Testing Accuracy')\n",
    "plt.xlabel('Maximum depth of Each tree')\n",
    "plt.ylabel('Accuracy_Score')\n",
    "plt.legend(loc='lower right')\n",
    "plt.title('Finding depth d')"
   ]
  },
  {
   "cell_type": "code",
   "execution_count": 17,
   "metadata": {},
   "outputs": [
    {
     "name": "stdout",
     "output_type": "stream",
     "text": [
      "Training accuracy score : 0.842743039707896\n",
      "Testing accuracy score : 0.7021451392058421\n"
     ]
    }
   ],
   "source": [
    "random_forests = RandomForestClassifier(n_estimators = 300, max_depth =20).fit(X_train_std,y_train)\n",
    "y_pred = random_forests.predict(X_test_std)\n",
    "print(\"Training accuracy score :\", accuracy_score(y_train,random_forests.predict(X_train_std)))\n",
    "print(\"Testing accuracy score :\", accuracy_score(y_test,y_pred))"
   ]
  },
  {
   "cell_type": "markdown",
   "metadata": {},
   "source": [
    "###### Observations on baseline model 2\n",
    "\n",
    "###### With no max depth\n",
    "\n",
    "The Random Forest Classifier correctly predicts 77% of the testing data and 100% of the training data.This is because of the fact that the max depth parameter in the random forests classifier was set to default which means that it builds a tree until the end. In other words, we can say that the model overfits the training data. At this step, the model is trained without tuning any parameters.\n",
    "\n",
    "###### With max depth = 20\n",
    "\n",
    "To try and avoid overfitting, max depth is set to 20 and observations are made. The maximum depth d = 20 is chosen by searching through all possible depth sizes ranging from 5 to 25 in steps of size 2 and finding the corresponding training and testing depth. It can be seen that the training accuracy has changed from 100% to 84% and the testing accuracy has changed from 77.63% to 70%. Intuitively, it feels that the model with no max depth is better than the model with max depth set to 20. However, the accuracy score for the training and testing data are close to each other for this model as compared to the other model because it overcomes an important problem in the machine learning domain, overfitting. This in turn improves the generalization of the model."
   ]
  },
  {
   "cell_type": "markdown",
   "metadata": {},
   "source": [
    "## Feature Selection"
   ]
  },
  {
   "cell_type": "markdown",
   "metadata": {},
   "source": [
    "Since I have high dimensionality data (1000 features), it is important to only consider the important features (Curse of dimensionality). I have first reduced the dimensionality by using f_classif which uses the one way ANOVA F-score which tests the null hypothesis that the two groups have the same mean on each of the features. It computes the F score and corresponding p-value for each of the features. However, since we are performing the test on each of the features, we will have a number of false positives which we will want to reduce. Hence, i have reduced the false discovery rate by using SelectFdr which uses the Benjamini Hochberg procedure. "
   ]
  },
  {
   "cell_type": "markdown",
   "metadata": {},
   "source": [
    "#### Method 1 - One way ANOVA "
   ]
  },
  {
   "cell_type": "code",
   "execution_count": 57,
   "metadata": {},
   "outputs": [
    {
     "data": {
      "text/plain": [
       "(43820, 1000)"
      ]
     },
     "execution_count": 57,
     "metadata": {},
     "output_type": "execute_result"
    }
   ],
   "source": [
    "X_train_std.shape"
   ]
  },
  {
   "cell_type": "code",
   "execution_count": 58,
   "metadata": {},
   "outputs": [],
   "source": [
    "#feature selection using one way ANOVA F test and FDR\n",
    "fdr = SelectFdr(f_classif, alpha=0.05)\n",
    "X_train_std = fdr.fit_transform(X_train_std,y_train)\n",
    "X_test_std = fdr.transform(X_test_std)\n",
    "feature_selected = [ col[i] for i in fdr.get_support(indices=True)]"
   ]
  },
  {
   "cell_type": "code",
   "execution_count": 59,
   "metadata": {},
   "outputs": [
    {
     "data": {
      "text/plain": [
       "(43820, 419)"
      ]
     },
     "execution_count": 59,
     "metadata": {},
     "output_type": "execute_result"
    }
   ],
   "source": [
    "X_train_std.shape"
   ]
  },
  {
   "cell_type": "markdown",
   "metadata": {},
   "source": [
    "As seen above, the dimensionality of the dataset has reduced from 1000 to 419. However, it is still quite large and we need to further reduce the dimensionality.I have tried to reduce the dimensionality by using Principal Component Analysis (PCA). "
   ]
  },
  {
   "cell_type": "markdown",
   "metadata": {},
   "source": [
    "#### Method 2 - Principal Component Analysis"
   ]
  },
  {
   "cell_type": "code",
   "execution_count": 60,
   "metadata": {
    "scrolled": false
   },
   "outputs": [
    {
     "data": {
      "text/plain": [
       "Text(0,0.5,'Variance (%)')"
      ]
     },
     "execution_count": 60,
     "metadata": {},
     "output_type": "execute_result"
    },
    {
     "data": {
      "text/plain": [
       "<Figure size 432x288 with 0 Axes>"
      ]
     },
     "metadata": {},
     "output_type": "display_data"
    },
    {
     "data": {
      "image/png": "[encoded data removed]",
      "text/plain": [
       "<Figure size 432x288 with 1 Axes>"
      ]
     },
     "metadata": {},
     "output_type": "display_data"
    }
   ],
   "source": [
    "#using PCA to find important features\n",
    "pca=PCA().fit(X_train_std)\n",
    "plt.figure()\n",
    "# Plotting the Cumulative Summation of the Explained Variance\n",
    "plt.figure()\n",
    "plt.plot(np.cumsum(pca.explained_variance_ratio_))\n",
    "plt.xlabel('Number of Components')\n",
    "plt.ylabel('Variance (%)') "
   ]
  },
  {
   "cell_type": "markdown",
   "metadata": {},
   "source": [
    "As seen above, Principal Component Analysis (PCA) did not help us reduce the dimensionality of our dataset. The graph tells us that almost every component contributes equally to the variance of the dataset.\n",
    "\n",
    "So, I have now used the Random Forest Classifier to find the most important features of the dataset."
   ]
  },
  {
   "cell_type": "markdown",
   "metadata": {},
   "source": [
    "#### Method 3 - Random Forests Classifier"
   ]
  },
  {
   "cell_type": "code",
   "execution_count": 61,
   "metadata": {},
   "outputs": [
    {
     "data": {
      "text/plain": [
       "RandomForestClassifier(bootstrap=True, class_weight=None, criterion='gini',\n",
       "            max_depth=20, max_features='auto', max_leaf_nodes=None,\n",
       "            min_impurity_decrease=0.0, min_impurity_split=None,\n",
       "            min_samples_leaf=1, min_samples_split=2,\n",
       "            min_weight_fraction_leaf=0.0, n_estimators=300, n_jobs=1,\n",
       "            oob_score=False, random_state=None, verbose=0,\n",
       "            warm_start=False)"
      ]
     },
     "execution_count": 61,
     "metadata": {},
     "output_type": "execute_result"
    }
   ],
   "source": [
    "#Random Forest Feature Selection\n",
    "random_forest = RandomForestClassifier(n_estimators = 300,max_depth = 20)\n",
    "random_forest.fit(X_train_std, y_train)"
   ]
  },
  {
   "cell_type": "code",
   "execution_count": 62,
   "metadata": {},
   "outputs": [
    {
     "name": "stdout",
     "output_type": "stream",
     "text": [
      "('0', 0.0022234984115041406)\n",
      "('1', 0.0028715973668420893)\n",
      "('2', 0.004292745954335973)\n",
      "('3', 0.000818293670980406)\n",
      "('4', 0.011712188146933932)\n",
      "('5', 0.001447567816644755)\n",
      "('6', 0.005548025871282907)\n",
      "('7', 0.0006173246168091226)\n",
      "('8', 0.001560211100589264)\n",
      "('9', 0.0011701867908032008)\n",
      "('10', 0.0014173573971190494)\n",
      "('11', 0.00260976190637167)\n",
      "('12', 0.000781503890723054)\n",
      "('13', 0.0007126126865975685)\n",
      "('14', 0.00026094992782623285)\n",
      "('15', 0.0008765256551855296)\n",
      "('16', 0.0010140922776689521)\n",
      "('17', 0.00142091448324174)\n",
      "('18', 0.0009798931432287257)\n",
      "('19', 0.0008956293706634522)\n",
      "('20', 0.0008334838695680063)\n",
      "('21', 0.002623534707918313)\n",
      "('22', 9.923854325399888e-05)\n",
      "('23', 0.0014951598728325628)\n",
      "('24', 0.0004955971328056957)\n",
      "('25', 0.001749976826106534)\n",
      "('26', 0.0003331267909284881)\n",
      "('27', 0.002137332635322332)\n",
      "('28', 0.000972789003847133)\n",
      "('29', 0.00030029228304211537)\n",
      "('30', 0.004680443688572037)\n",
      "('31', 0.001724203139952544)\n",
      "('32', 0.0054335662188906035)\n",
      "('33', 0.002687368072802088)\n",
      "('34', 0.0027110796535644716)\n",
      "('35', 0.002589049178570662)\n",
      "('36', 0.0008206860354475612)\n",
      "('37', 0.004250652860571458)\n",
      "('38', 0.0020768313180579757)\n",
      "('39', 0.0006747693244967354)\n",
      "('40', 0.002831465033473777)\n",
      "('41', 0.0007710885380293795)\n",
      "('42', 0.0004460304287041934)\n",
      "('43', 0.0010032050507891852)\n",
      "('44', 0.0008846232472100611)\n",
      "('45', 0.0027636326017826778)\n",
      "('46', 0.00045921549718268073)\n",
      "('47', 0.00033650795035927884)\n",
      "('48', 0.0014328000748623853)\n",
      "('49', 0.0024200685652855038)\n",
      "('50', 0.0026351198394598315)\n",
      "('51', 0.0038642710664691508)\n",
      "('52', 0.001969580260525515)\n",
      "('53', 0.0013955191112343208)\n",
      "('54', 0.015265428574339874)\n",
      "('55', 0.000683372483319784)\n",
      "('56', 0.0012519599333646193)\n",
      "('57', 0.003945235769849859)\n",
      "('58', 0.014323124430867829)\n",
      "('59', 0.002546219492360158)\n",
      "('60', 0.006220617008006324)\n",
      "('61', 0.000771283067802351)\n",
      "('62', 0.0017875028907939235)\n",
      "('63', 0.0005582937143730848)\n",
      "('64', 0.0018593981602359304)\n",
      "('65', 0.0012739836872411965)\n",
      "('66', 0.003405801364373712)\n",
      "('67', 0.002829760589012576)\n",
      "('68', 0.0013479387537871778)\n",
      "('69', 0.00030047001411550055)\n",
      "('70', 0.0007110649924651398)\n",
      "('71', 0.003045427173497845)\n",
      "('72', 0.0015105272039726354)\n",
      "('73', 0.0005045298714383198)\n",
      "('74', 0.002808212193999984)\n",
      "('75', 0.0005271506815235695)\n",
      "('76', 0.002484261252057005)\n",
      "('77', 0.00337399251696131)\n",
      "('78', 0.0007178847717017882)\n",
      "('79', 0.00047055252194732353)\n",
      "('80', 0.002373402067841603)\n",
      "('81', 0.0008729938823253403)\n",
      "('82', 0.001989256893341183)\n",
      "('83', 0.0008051511812411092)\n",
      "('84', 0.0011933776740694572)\n",
      "('85', 0.0018666300560080844)\n",
      "('86', 0.0006794166300742034)\n",
      "('87', 0.0015581761021175307)\n",
      "('88', 0.00032239656604566517)\n",
      "('89', 0.0019945150470990127)\n",
      "('90', 0.006511102761859324)\n",
      "('91', 0.006558534767684261)\n",
      "('92', 0.000286714148878844)\n",
      "('93', 0.0011188616213409417)\n",
      "('94', 0.0008764522368593479)\n",
      "('95', 0.0021861917017405833)\n",
      "('96', 0.005350388643962262)\n",
      "('97', 0.001208226730409775)\n",
      "('98', 0.0019177710577634067)\n",
      "('99', 0.002509053881519484)\n",
      "('100', 0.0009056396594684768)\n",
      "('101', 0.000858005788434963)\n",
      "('102', 0.0032721266856635244)\n",
      "('103', 0.0007160522547351782)\n",
      "('104', 0.0004184991465560369)\n",
      "('105', 0.004730193206283289)\n",
      "('106', 9.636412266642038e-05)\n",
      "('107', 0.0006956969516417043)\n",
      "('108', 0.0006288729078972594)\n",
      "('109', 0.0023022581423823105)\n",
      "('110', 0.0003720130949105281)\n",
      "('111', 5.8782332537173295e-05)\n",
      "('112', 1.8263236359981674e-05)\n",
      "('113', 0.00029233032400159784)\n",
      "('114', 0.006142314353354184)\n",
      "('115', 0.004201710376730716)\n",
      "('116', 0.001062670287119384)\n",
      "('117', 0.0051243839790411205)\n",
      "('118', 0.0043986250324417634)\n",
      "('119', 0.005840042474541323)\n",
      "('120', 0.00035636642870667514)\n",
      "('121', 0.007803874964119214)\n",
      "('122', 0.0010032050180199881)\n",
      "('123', 0.0012221784512743926)\n",
      "('124', 0.002092723234017717)\n",
      "('125', 0.0021374478341047933)\n",
      "('126', 0.002215433127774778)\n",
      "('127', 0.002613557029228403)\n",
      "('128', 0.002501417723915548)\n",
      "('129', 0.00193933309861005)\n",
      "('130', 0.0033200377927410274)\n",
      "('131', 0.0008980469023425904)\n",
      "('132', 0.0010610064952100904)\n",
      "('133', 0.00023092919523302896)\n",
      "('134', 0.0008652948661087075)\n",
      "('135', 0.0024887910956199284)\n",
      "('136', 4.948100692973398e-05)\n",
      "('137', 0.002391139963439132)\n",
      "('138', 0.00017512714550308464)\n",
      "('139', 0.0014747804862698327)\n",
      "('140', 0.0022167156761370302)\n",
      "('141', 0.0008087830788724978)\n",
      "('142', 0.0020182439064476226)\n",
      "('143', 0.0034483401456988525)\n",
      "('144', 0.004656578538044729)\n",
      "('145', 0.0007329567317902415)\n",
      "('146', 0.0037195759827073007)\n",
      "('147', 0.0017360098704727915)\n",
      "('148', 0.001938276493297103)\n",
      "('149', 0.0010225723055201639)\n",
      "('150', 0.000294124717071886)\n",
      "('151', 0.0010291078939090737)\n",
      "('152', 0.002741127059614849)\n",
      "('153', 0.0009760630341871621)\n",
      "('154', 0.000712088777724668)\n",
      "('155', 0.00033805268194305875)\n",
      "('156', 0.00013906963327616265)\n",
      "('157', 0.004500987890443125)\n",
      "('158', 0.000930998267777375)\n",
      "('159', 0.00392578305001566)\n",
      "('160', 0.0004610244573768593)\n",
      "('161', 0.015624901824006813)\n",
      "('162', 0.00018513262107230105)\n",
      "('163', 0.0006558297372819446)\n",
      "('164', 0.0035382595662484103)\n",
      "('165', 0.0007490870002893545)\n",
      "('166', 0.00037633245162818895)\n",
      "('167', 0.0020540769813592904)\n",
      "('168', 0.0017078344083039057)\n",
      "('169', 0.0009453121863919876)\n",
      "('170', 0.004443406550939016)\n",
      "('171', 0.0005028282415706624)\n",
      "('172', 0.0016353573968299645)\n",
      "('173', 0.0037741987179749467)\n",
      "('174', 0.002346689849520217)\n",
      "('175', 0.0014144246132992238)\n",
      "('176', 0.000476288997777421)\n",
      "('177', 0.006965733091556096)\n",
      "('178', 0.0026759311314791335)\n",
      "('179', 0.0003994127223910075)\n",
      "('180', 0.0035735838572231275)\n",
      "('181', 7.51106845943919e-05)\n",
      "('182', 0.000727373492761543)\n",
      "('183', 0.002163517512713504)\n",
      "('184', 0.0008754460642471418)\n",
      "('185', 0.019012456597380954)\n",
      "('186', 0.001054252144807904)\n",
      "('187', 0.0009917817737785212)\n",
      "('188', 0.0003874538464012028)\n",
      "('189', 0.002623514088376838)\n",
      "('190', 0.002547555080200135)\n",
      "('191', 0.008941466016074597)\n",
      "('192', 0.005337396348139631)\n",
      "('193', 0.0013757902260321882)\n",
      "('194', 0.003397977350779798)\n",
      "('195', 0.0013641520450813406)\n",
      "('196', 0.00040995229444885185)\n",
      "('197', 0.0019223584421176924)\n",
      "('198', 0.0003438642531818511)\n",
      "('199', 0.000565734927825237)\n",
      "('200', 0.0016716609713704985)\n",
      "('201', 0.008439696978017856)\n",
      "('202', 0.00042889639603700664)\n",
      "('203', 0.001443051960318355)\n",
      "('204', 0.006834606781589616)\n",
      "('205', 0.0014116493681479113)\n",
      "('206', 0.009132658137141425)\n",
      "('207', 0.012954501143360412)\n",
      "('208', 0.001981604309205426)\n",
      "('209', 0.0024421811283686914)\n",
      "('210', 0.001097540058705282)\n",
      "('211', 0.0035601402882262886)\n",
      "('212', 0.0014662384808487017)\n",
      "('213', 0.002791663725867077)\n",
      "('214', 0.0010980844891716615)\n",
      "('215', 0.0005623471534836448)\n",
      "('216', 0.004375087685173331)\n",
      "('217', 0.0026626764702487346)\n",
      "('218', 0.0005464317536663339)\n",
      "('219', 0.004624929813707279)\n",
      "('220', 0.0007318308113786233)\n",
      "('221', 0.0005166078767089537)\n",
      "('222', 0.007957294027195277)\n",
      "('223', 0.00398166246795707)\n",
      "('224', 0.0008033293010854165)\n",
      "('225', 0.001657020550047498)\n",
      "('226', 0.000966968421951023)\n",
      "('227', 0.0013265063777185466)\n",
      "('228', 0.0018035775139821687)\n",
      "('229', 0.0002927794969585749)\n",
      "('230', 0.000665965829338933)\n",
      "('231', 0.0005836029383861738)\n",
      "('232', 0.0012867851186020283)\n",
      "('233', 0.004225524112091285)\n",
      "('234', 0.002251235471222295)\n",
      "('235', 0.0018412777191139892)\n",
      "('236', 0.002444915564105899)\n",
      "('237', 0.007194455118714975)\n",
      "('238', 0.0014564030097923358)\n",
      "('239', 0.0033778362572603367)\n",
      "('240', 0.0030971906455915946)\n",
      "('241', 0.0009117700426531597)\n",
      "('242', 0.001080001814738223)\n",
      "('243', 0.005753542404357039)\n",
      "('244', 0.005122673139515352)\n",
      "('245', 0.0010659790504762485)\n",
      "('246', 0.000711397430553544)\n",
      "('247', 0.0023441170953270364)\n",
      "('248', 0.0036458242328779376)\n",
      "('249', 0.0004976130996976947)\n",
      "('250', 0.00018688761209109927)\n",
      "('251', 0.0013845440706408264)\n",
      "('252', 0.004156460737092594)\n",
      "('253', 0.00154374388509114)\n",
      "('254', 0.0015860142924468427)\n",
      "('255', 0.0013609365298634208)\n",
      "('256', 0.0016201409487543094)\n",
      "('257', 0.0007527373984426556)\n",
      "('258', 0.003272085990817119)\n",
      "('259', 0.0005898299104747951)\n",
      "('260', 0.0005021860966810953)\n",
      "('261', 0.0013049344113811932)\n",
      "('262', 0.0025399815356406882)\n",
      "('263', 0.0018629495820489494)\n",
      "('264', 0.001510123056684039)\n",
      "('265', 0.0018450607798127501)\n",
      "('266', 7.545176537920449e-05)\n",
      "('267', 0.0007050580997619054)\n",
      "('268', 0.0036863364752186107)\n",
      "('269', 0.001160994312178838)\n",
      "('270', 0.00016870686882875224)\n",
      "('271', 0.00028806103267076913)\n",
      "('272', 0.0011986031508414016)\n",
      "('273', 0.0019474133142535096)\n",
      "('274', 0.0018975464168462083)\n",
      "('275', 0.0013780170946458955)\n",
      "('276', 0.000774280597256089)\n",
      "('277', 0.000647007111830378)\n",
      "('278', 0.004649915440873752)\n",
      "('279', 0.0021508347094311713)\n",
      "('280', 0.008894741675185308)\n",
      "('281', 0.0007811529218167816)\n",
      "('282', 0.0020758298459179043)\n",
      "('283', 0.00022590239256143683)\n",
      "('284', 0.0013207711844998818)\n",
      "('285', 0.0018263861463389001)\n",
      "('286', 0.0018320060466652877)\n",
      "('287', 0.0035505059012363063)\n",
      "('288', 0.0005154550723307533)\n",
      "('289', 0.0023644018348317644)\n",
      "('290', 0.001737645050147691)\n",
      "('291', 0.0006091049116228278)\n",
      "('292', 0.0006357769301279743)\n",
      "('293', 0.0020411955752480835)\n",
      "('294', 0.000662068708022411)\n",
      "('295', 0.0024099014655279594)\n",
      "('296', 0.0002576311892772382)\n",
      "('297', 0.00037238217204517795)\n",
      "('298', 0.0006382710627757296)\n",
      "('299', 0.0007251542554595388)\n",
      "('300', 0.0005452930757720946)\n",
      "('301', 0.004862977854266929)\n",
      "('302', 0.002432054702627633)\n",
      "('303', 0.001537840852718078)\n",
      "('304', 0.00034134632739420996)\n",
      "('305', 0.0011075610426431483)\n",
      "('306', 0.0007742903574303597)\n",
      "('307', 0.0010873455597426064)\n",
      "('308', 0.000472839165810614)\n",
      "('309', 0.002960880669499681)\n",
      "('310', 0.001273228672176579)\n",
      "('311', 0.0027406874200566955)\n",
      "('312', 0.0007434298587788177)\n",
      "('313', 0.0008715232094669924)\n",
      "('314', 0.00048733630316945617)\n",
      "('315', 0.0018039322749337982)\n",
      "('316', 0.002850397259496415)\n",
      "('317', 0.002115995086779636)\n",
      "('318', 0.004765956179750419)\n",
      "('319', 0.001532783853102155)\n",
      "('320', 0.0037202038406953346)\n",
      "('321', 0.020440775663881423)\n",
      "('322', 3.798704992422675e-05)\n",
      "('323', 0.01219102259294382)\n",
      "('324', 0.0038138095277146754)\n",
      "('325', 0.0006785051231501596)\n",
      "('326', 0.0014690688175305613)\n",
      "('327', 0.0006248815550580696)\n",
      "('328', 0.0018212955308970233)\n",
      "('329', 0.0024523473431973804)\n",
      "('330', 0.0010499167915910613)\n",
      "('331', 0.002262903504024964)\n",
      "('332', 0.0017473013170894683)\n",
      "('333', 0.00611361625115651)\n",
      "('334', 0.0015586985498446393)\n",
      "('335', 0.0029727378877662386)\n",
      "('336', 0.0004398275257551033)\n",
      "('337', 0.0005089487602533379)\n",
      "('338', 0.002723001952813408)\n",
      "('339', 0.0011885776265881912)\n",
      "('340', 0.009538596559363503)\n",
      "('341', 0.003862485721907223)\n",
      "('342', 0.0008281825542318304)\n",
      "('343', 0.001888804271574438)\n",
      "('344', 0.0010780131670053681)\n",
      "('345', 0.0013219813460894003)\n",
      "('346', 0.0021216618407120433)\n",
      "('347', 0.0010951694955556354)\n",
      "('348', 0.0023119174328014307)\n",
      "('349', 0.0034596796158067457)\n",
      "('350', 0.0006514094391839435)\n",
      "('351', 0.016192571796448226)\n",
      "('352', 0.0018257012026182213)\n",
      "('353', 0.0033718292298543988)\n",
      "('354', 0.0066681752525655945)\n",
      "('355', 0.0027753334945287964)\n",
      "('356', 0.0005580645993277823)\n",
      "('357', 0.00043509368159598235)\n",
      "('358', 0.001185679878755677)\n",
      "('359', 0.0003415514020797122)\n",
      "('360', 0.02029597977844373)\n",
      "('361', 0.002044106351099951)\n",
      "('362', 0.00012213860392283117)\n",
      "('363', 0.0025521844238782345)\n",
      "('364', 0.00016268947799034396)\n",
      "('365', 0.0004335672579229712)\n",
      "('366', 0.0016024809884339873)\n",
      "('367', 0.001905023697263687)\n",
      "('368', 0.002257079742856528)\n",
      "('369', 0.002722478485895939)\n",
      "('370', 0.003262835835838245)\n",
      "('371', 0.010626100645000268)\n",
      "('372', 0.0015205874765102702)\n",
      "('373', 0.0011035762555445506)\n",
      "('374', 0.000872479634390431)\n",
      "('375', 0.004832955634789233)\n",
      "('376', 0.002100042402401233)\n",
      "('377', 9.425729088312064e-05)\n",
      "('378', 0.028999695561154237)\n",
      "('379', 0.0035806859129244306)\n",
      "('380', 0.0013639429265828596)\n",
      "('381', 0.0023238451464844363)\n",
      "('382', 0.00020243828906777806)\n",
      "('383', 0.0006623812705296353)\n",
      "('384', 0.0012578479463347947)\n",
      "('385', 0.0009509725632162141)\n",
      "('386', 0.0017634536512668394)\n",
      "('387', 0.0006975737477177994)\n",
      "('388', 0.0008912081145830177)\n",
      "('389', 0.005584397765306984)\n",
      "('390', 0.000562983773199573)\n",
      "('391', 0.004719346590333423)\n",
      "('392', 0.0013914478372355388)\n",
      "('393', 0.0012538003626432223)\n",
      "('394', 0.0004941346279538713)\n",
      "('395', 0.0007847893266955716)\n",
      "('396', 0.003004646131473682)\n",
      "('397', 0.016792458018544596)\n",
      "('398', 0.000836068657920154)\n",
      "('399', 0.0014291941876793915)\n",
      "('400', 0.008039907520748991)\n",
      "('401', 0.004558228532964001)\n",
      "('402', 0.0007358642792152245)\n",
      "('403', 0.0009958491180086745)\n",
      "('404', 0.0010740681324984368)\n",
      "('405', 0.0008372599254334367)\n",
      "('406', 0.0004141230329908192)\n",
      "('407', 0.0011862862106645346)\n",
      "('408', 0.0005072276669262899)\n",
      "('409', 0.0008394946751817597)\n",
      "('410', 0.0010670476677515828)\n",
      "('411', 0.00397518724425334)\n",
      "('412', 0.0008198351398279332)\n",
      "('413', 0.0013614342572050146)\n",
      "('414', 0.002002478947472455)\n",
      "('415', 0.0005159626819923202)\n",
      "('416', 0.0005567053230976601)\n",
      "('417', 0.0010116361780564166)\n",
      "('418', 0.00014496933541448663)\n"
     ]
    }
   ],
   "source": [
    "#the importanceof every feature\n",
    "random_forest.feature_importances_\n",
    "for feature in zip(col, random_forest.feature_importances_):\n",
    "    print(feature)"
   ]
  },
  {
   "cell_type": "code",
   "execution_count": 63,
   "metadata": {},
   "outputs": [],
   "source": [
    "#function to select top k important features\n",
    "def selectKImportance(model, X, k=5):\n",
    "     return X[:,model.feature_importances_.argsort()[::-1][:k]]"
   ]
  },
  {
   "cell_type": "code",
   "execution_count": 64,
   "metadata": {
    "scrolled": true
   },
   "outputs": [],
   "source": [
    "#finding the appropiate number of features\n",
    "acc_test=[]\n",
    "acc_train=[]\n",
    "for i in range(10,300,30):\n",
    "    X_important_train = selectKImportance(random_forest,X_train_std,i)\n",
    "    X_important_test = selectKImportance(random_forest,X_test_std,i)\n",
    "    important = RandomForestClassifier(n_estimators=300,max_depth=20)\n",
    "    important.fit(X_important_train, y_train)\n",
    "    acc_test.append(accuracy_score(y_test,important.predict(X_important_test)))\n",
    "    acc_train.append(accuracy_score(y_train,important.predict(X_important_train)))"
   ]
  },
  {
   "cell_type": "markdown",
   "metadata": {},
   "source": [
    " "
   ]
  },
  {
   "cell_type": "code",
   "execution_count": 65,
   "metadata": {},
   "outputs": [
    {
     "data": {
      "text/plain": [
       "Text(0.5,1,'Random Forest Feature Selection')"
      ]
     },
     "execution_count": 65,
     "metadata": {},
     "output_type": "execute_result"
    },
    {
     "data": {
      "image/png": "[encoded data removed]",
      "text/plain": [
       "<Figure size 432x288 with 1 Axes>"
      ]
     },
     "metadata": {},
     "output_type": "display_data"
    }
   ],
   "source": [
    "#plotting the graph\n",
    "plt.plot(range(10,300,30),acc_train,label='Training Accuracy')\n",
    "plt.plot(range(10,300,30),acc_test,label='Testing Accuracy')\n",
    "plt.xlabel('Number of features')\n",
    "plt.ylabel('Accuracy_Score')\n",
    "plt.legend(loc='lower right')\n",
    "plt.title('Random Forest Feature Selection')"
   ]
  },
  {
   "cell_type": "markdown",
   "metadata": {},
   "source": [
    " "
   ]
  },
  {
   "cell_type": "markdown",
   "metadata": {},
   "source": [
    "The graph above tells us that once the number of features crosses around 100, the increase in accuracy per feature added is very less i.e. it is trade off between computational burden and accuracy. Hence, I have decided to take the top 100 features for my predictive model.\n",
    "\n",
    "**Note**: The accuracy score gives us a basic intuition of how well the model is doing. This cannot be used as a comprehensive tool for evaluating the model. Other good model evaluation techniques for classification problems are F1-score, Confusion Matrix, ROC and AUC."
   ]
  },
  {
   "cell_type": "code",
   "execution_count": 66,
   "metadata": {},
   "outputs": [
    {
     "name": "stdout",
     "output_type": "stream",
     "text": [
      "['378', '321', '360', '185', '397', '351', '161', '54', '58', '207', '323', '4', '371', '340', '206', '191', '280', '201', '400', '222', '121', '237', '177', '204', '354', '91', '90', '60', '114', '333', '119', '243', '389', '6', '32', '96', '192', '117', '244', '301', '375', '318', '105', '391', '30', '144', '278', '219', '401', '157', '170', '118', '216', '2', '37', '233', '115', '252', '223', '411', '57', '159', '51', '341', '324', '173', '320', '146', '268', '248', '379', '180', '211', '287', '164', '349', '143', '66', '194', '239', '77', '353', '130', '102', '258', '370', '240', '71', '396', '335', '309', '1', '316', '40', '67', '74', '213', '355', '45', '152']\n"
     ]
    }
   ],
   "source": [
    "#top 100 selected features\n",
    "selected_features = [col[i] for i in random_forest.feature_importances_.argsort()[::-1][:100]]\n",
    "print(selected_features)"
   ]
  },
  {
   "cell_type": "markdown",
   "metadata": {},
   "source": [
    "## Model Selection and Evaluation"
   ]
  },
  {
   "cell_type": "markdown",
   "metadata": {},
   "source": [
    "Having selected the important features, the next step is to experiment with different models. The first classifier I tried was Random Forests Classifier. Earlier we had a baseline estimate of our Random Forests Classifier using all 1000 features in our dataset. Having reduced our feature space to only a 100 features, it now becomes very important to tune the hyperparameters as well when we build our model. For hyperparameter tuning, I have used GridSearchCV which searches through all possible combinations passed to it in the parameters dictionary and it finds the best possible combination. Though, it is computationally very expensive, it provides very accurate results as it generalizes better with the problem at hand. "
   ]
  },
  {
   "cell_type": "markdown",
   "metadata": {},
   "source": [
    "#### Model 1 - Random Forests Classifier"
   ]
  },
  {
   "cell_type": "code",
   "execution_count": 67,
   "metadata": {},
   "outputs": [],
   "source": [
    "#Reducing dimensionality of test train data to 100\n",
    "X_important_train = selectKImportance(random_forest,X_train_std,100)\n",
    "X_important_test = selectKImportance(random_forest,X_test_std,100)"
   ]
  },
  {
   "cell_type": "markdown",
   "metadata": {},
   "source": [
    "**Note**: GridSearchCV takes a very very long time to run because it iterates through all possible parameter combinations and also uses cross validation."
   ]
  },
  {
   "cell_type": "code",
   "execution_count": 29,
   "metadata": {},
   "outputs": [
    {
     "data": {
      "text/plain": [
       "GridSearchCV(cv=5, error_score='raise',\n",
       "       estimator=RandomForestClassifier(bootstrap=True, class_weight=None, criterion='gini',\n",
       "            max_depth=None, max_features='auto', max_leaf_nodes=None,\n",
       "            min_impurity_decrease=0.0, min_impurity_split=None,\n",
       "            min_samples_leaf=1, min_samples_split=2,\n",
       "            min_weight_fraction_leaf=0.0, n_estimators=10, n_jobs=1,\n",
       "            oob_score=False, random_state=8, verbose=0, warm_start=False),\n",
       "       fit_params=None, iid=True, n_jobs=1,\n",
       "       param_grid={'n_estimators': [100, 200, 300, 400], 'max_features': ['auto', 'sqrt', 'log2'], 'max_depth': [18, 20, 22], 'criterion': ['gini', 'entropy']},\n",
       "       pre_dispatch='2*n_jobs', refit=True, return_train_score='warn',\n",
       "       scoring=None, verbose=0)"
      ]
     },
     "execution_count": 29,
     "metadata": {},
     "output_type": "execute_result"
    }
   ],
   "source": [
    "#Hyperparameter tuning using GridSearch CV\n",
    "random_forest = RandomForestClassifier(random_state = 8)\n",
    "parameters = {'n_estimators':[100,200,300,400],\n",
    "              'max_features': ['auto', 'sqrt', 'log2'],\n",
    "              'max_depth' : [18,20,22],\n",
    "              'criterion' :['gini','entropy']}\n",
    "classifier = GridSearchCV(random_forest,parameters,cv = 5)\n",
    "classifier.fit(X_important_train,y_train)\n"
   ]
  },
  {
   "cell_type": "code",
   "execution_count": 30,
   "metadata": {},
   "outputs": [
    {
     "data": {
      "text/plain": [
       "{'criterion': 'gini',\n",
       " 'max_depth': 22,\n",
       " 'max_features': 'auto',\n",
       " 'n_estimators': 400}"
      ]
     },
     "execution_count": 30,
     "metadata": {},
     "output_type": "execute_result"
    }
   ],
   "source": [
    "classifier.best_params_"
   ]
  },
  {
   "cell_type": "markdown",
   "metadata": {},
   "source": [
    "Having found the best parameters, the next step is to train the Random Forest Classifier using these paramters and then evaluate it. To evaluate the model I am implementing a Stratified K-fold cross validation technique. As a starting point I selected k to be 5. For each fold, I have calculated the AUC (area under the ROC curve), Accuracy Score (percentage of correct predictions) and the F-1 Score (harmonic mean of precision and recall) as evaluation metrics to better understand how the models build are performing."
   ]
  },
  {
   "cell_type": "markdown",
   "metadata": {},
   "source": [
    "#### K-Fold Cross Validation"
   ]
  },
  {
   "cell_type": "code",
   "execution_count": 75,
   "metadata": {},
   "outputs": [
    {
     "name": "stdout",
     "output_type": "stream",
     "text": [
      "Fold = 1. AUC = 0.7988513360517999. Accuracy = 0.7123787792355961. F-1 Score = 0.7740836992562058.\n",
      "Fold = 2. AUC = 0.7955352845816763. Accuracy = 0.7115472387037882. F-1 Score = 0.773720014321518.\n",
      "Fold = 3. AUC = 0.7858734232123408. Accuracy = 0.7013920584208124. F-1 Score = 0.7639577884008298.\n",
      "Fold = 4. AUC = 0.7926147181623986. Accuracy = 0.7074395253308992. F-1 Score = 0.7679638009049774.\n",
      "Fold = 5. AUC = 0.7859853299159085. Accuracy = 0.7083190688120506. F-1 Score = 0.7694805194805195.\n",
      " \n",
      "Mean AUC Score: 0.7917720183848249. Std Dev: 0.005162717161700315\n",
      "Mean Accuracy Score: 0.7082153341006293. Std Dev: 0.003888588299544058\n",
      "Mean F-1 Score: 0.7698411644728101. Std Dev: 0.0037765923877957396\n"
     ]
    }
   ],
   "source": [
    "from sklearn.model_selection import StratifiedKFold\n",
    "cv = StratifiedKFold(n_splits = 5, random_state = 420)\n",
    "auc_scores = []\n",
    "accuracy_scores = []\n",
    "f1_scores = []\n",
    "\n",
    "fold = 1\n",
    "for train_idx, valid_idx in cv.split(X_important_train, y_train):\n",
    "    xtrain, xvalid = X_important_train[train_idx], X_important_train[valid_idx]\n",
    "    ytrain, yvalid = y_train[train_idx], y_train[valid_idx]\n",
    "\n",
    "    model = RandomForestClassifier(random_state=42, max_features='auto', n_estimators=400 , max_depth = 22, criterion='gini')\n",
    "    model.fit(xtrain, ytrain)\n",
    "    \n",
    "    valid_preds=model.predict(xvalid)\n",
    "    probs = model.predict_proba(xvalid)\n",
    "    pred = probs[:,1]\n",
    "    \n",
    "    aucs = roc_auc_score(yvalid, pred)\n",
    "    accuracy = accuracy_score(yvalid,valid_preds)\n",
    "    f1 = f1_score(yvalid,valid_preds)\n",
    "    \n",
    "    auc_scores.append(aucs)\n",
    "    accuracy_scores.append(accuracy)\n",
    "    f1_scores.append(f1)\n",
    "    print(\"Fold = {}. AUC = {}. Accuracy = {}. F-1 Score = {}.\".format(fold, aucs,accuracy,f1))\n",
    "\n",
    "    fold += 1\n",
    "print(' ')\n",
    "print(\"Mean AUC Score: {}. Std Dev: {}\".format(np.mean(auc_scores), np.std(auc_scores)))\n",
    "print(\"Mean Accuracy Score: {}. Std Dev: {}\".format(np.mean(accuracy_scores), np.std(accuracy_scores)))\n",
    "print(\"Mean F-1 Score: {}. Std Dev: {}\".format(np.mean(f1_scores), np.std(f1_scores)))\n"
   ]
  },
  {
   "cell_type": "markdown",
   "metadata": {},
   "source": [
    "As mentioned earlier, we see that accuracy is not the best method to evaluate how well a model performs. Better methods to evaluate models build (for this type of problem) are AUC and F-1 Score. This result is expected and inline with my understanding. "
   ]
  },
  {
   "cell_type": "code",
   "execution_count": 69,
   "metadata": {},
   "outputs": [
    {
     "name": "stdout",
     "output_type": "stream",
     "text": [
      "AUC_Score : 0.8053409431706495.\n",
      "Accuracy Score : 0.7183021451392059.\n",
      "F-1 Score : 0.7773770018756313.\n"
     ]
    }
   ],
   "source": [
    "#Performace of testing set\n",
    "model = RandomForestClassifier(random_state=42, max_features='auto', n_estimators=400 , max_depth = 22, criterion='gini')\n",
    "model.fit(X_important_train, y_train)\n",
    "y_pred = model.predict(X_important_test)\n",
    "probs = model.predict_proba(X_important_test)\n",
    "pred = probs[:,1]\n",
    "print(\"AUC_Score : {}.\".format(roc_auc_score(y_test,pred)))\n",
    "print(\"Accuracy Score : {}.\".format(accuracy_score(y_test,y_pred)))\n",
    "print(\"F-1 Score : {}.\".format(f1_score(y_test,y_pred)))"
   ]
  },
  {
   "cell_type": "markdown",
   "metadata": {},
   "source": [
    "The f1 score gives us the harmonic mean of Precision and Recall. Precison is the ratio of true positives to all predicted positive and recall is the ratio of true positives to all positives. An f1 score captures more detail than accuracy (as it is in a way representing the information from the confusion matrix) and therefore, 0.77 tells us that our model does well. "
   ]
  },
  {
   "cell_type": "markdown",
   "metadata": {},
   "source": [
    "#### Confusion matrix for the classifier model"
   ]
  },
  {
   "cell_type": "code",
   "execution_count": 76,
   "metadata": {},
   "outputs": [
    {
     "data": {
      "image/png": "[encoded data removed]",
      "text/plain": [
       "<Figure size 432x288 with 2 Axes>"
      ]
     },
     "metadata": {},
     "output_type": "display_data"
    }
   ],
   "source": [
    "#printing the confusion matrix\n",
    "labels = ['0','1']\n",
    "cm = confusion_matrix(y_test, y_pred)\n",
    "fig, ax = plt.subplots()\n",
    "im = ax.imshow(cm, interpolation='nearest', cmap = plt.cm.Blues)\n",
    "ax.figure.colorbar(im, ax=ax)\n",
    "ax.set(xticks=np.arange(cm.shape[1]),\n",
    "       yticks=np.arange(cm.shape[0]),\n",
    "           xticklabels=labels, yticklabels=labels,\n",
    "           title=\"Confusion Matrix of the Classifier\",\n",
    "           ylabel='True label',\n",
    "           xlabel='Predicted label')\n",
    "\n",
    "thresh = cm.max() / 2.\n",
    "for i in range(cm.shape[0]):\n",
    "    for j in range(cm.shape[1]):\n",
    "        ax.text(j, i, format(cm[i, j], 'd'),\n",
    "                ha=\"center\", va=\"center\",\n",
    "                color=\"white\" if cm[i, j] > thresh else \"black\")\n",
    "fig.tight_layout()\n",
    "plt.show()\n"
   ]
  },
  {
   "cell_type": "markdown",
   "metadata": {},
   "source": [
    "The confusion matrix gives us a very good understanding of any classification model. It gives us the number of true positives (5388), true negatives (2481) , false positives (2391) and false negatives (695) for our binary classification task. An important point to note is that there are very few false negatives as compared to the rest. False negatives tell us the number actual 1 labels predicted as 0 by our model. It is very important to have fewer number of false negatives when predicting any disease because if a person actually has a disease and we predict that he does not have it based on the features, it might lead to severe consquences (in extreme cases, death). However, if we predict a false positive, further testing will lead to the correct conclusion that the person does not have the disease. The number of false negatives can be reduced by changing the threshold value in the ROC curve shown below."
   ]
  },
  {
   "cell_type": "markdown",
   "metadata": {},
   "source": [
    "#### ROC curve"
   ]
  },
  {
   "cell_type": "code",
   "execution_count": 79,
   "metadata": {},
   "outputs": [
    {
     "name": "stdout",
     "output_type": "stream",
     "text": [
      "[0.         0.         0.         ... 0.96408046 0.96408046 1.        ] [1.64392569e-04 5.91813250e-03 6.24691764e-03 ... 9.99835607e-01\n",
      " 1.00000000e+00 1.00000000e+00]\n"
     ]
    },
    {
     "data": {
      "image/png": "[encoded data removed]",
      "text/plain": [
       "<Figure size 432x288 with 1 Axes>"
      ]
     },
     "metadata": {},
     "output_type": "display_data"
    }
   ],
   "source": [
    "#plotting the ROC curve \n",
    "probs = model.predict_proba(X_important_test)\n",
    "preds = probs[:,1]\n",
    "fpr, tpr, threshold = roc_curve(y_test, preds)\n",
    "roc_auc = auc(fpr, tpr)\n",
    "\n",
    "\n",
    "import matplotlib.pyplot as plt\n",
    "plt.title('Receiver Operating Characteristic')\n",
    "plt.plot(fpr, tpr, 'b', label = 'AUC = %0.2f' % roc_auc)\n",
    "plt.legend(loc = 'lower right')\n",
    "plt.plot([0, 1], [0, 1],'r--')\n",
    "plt.xlim([0, 1])\n",
    "plt.ylim([0, 1])\n",
    "plt.ylabel('True Positive Rate')\n",
    "plt.xlabel('False Positive Rate')\n",
    "plt.show()"
   ]
  },
  {
   "cell_type": "markdown",
   "metadata": {},
   "source": [
    "We can see that the AUC score for this model is 0.8 which is good. AUC scores have a minimum of 0.5 which means the classifier is predicting at random and a score of 1 represents a perfect classifier. We want our model to be as close as possible to the top left corner of the graph. This is because of the reason that we want the true positive rate to increase while the false positive rate is at a minimum. In the ideal scenario, the ROC curve touches the top left corner of the graph which means that the we have a true positive rate of 1 when the false positive rate is 0 i.e. both the classes are perfectly seperatable. We can also adjust our threshold to reduce the number of false positives or negatives according to our needs."
   ]
  },
  {
   "cell_type": "markdown",
   "metadata": {},
   "source": [
    "##### Model 2: Logistic Regression"
   ]
  },
  {
   "cell_type": "code",
   "execution_count": 81,
   "metadata": {},
   "outputs": [
    {
     "name": "stdout",
     "output_type": "stream",
     "text": [
      "0.7116385212231857\n"
     ]
    }
   ],
   "source": [
    "logistic_regression = LogisticRegression(random_state =5, solver='sag')\n",
    "logistic_regression.fit(X_important_train,y_train)\n",
    "y_pred = logistic_regression.predict(X_important_test)\n",
    "print(accuracy_score(y_test,y_pred))"
   ]
  },
  {
   "cell_type": "markdown",
   "metadata": {},
   "source": [
    "Initially, when we ran the logistic regression baseline model using all 1000 features, we got a testing accuracy of nearly 79%. However, once the number of features were reduced to 100, logistic regression performs slightly worse than before. This may be due to the fact that the features selected by the random forests classifier were not good enough for the logistic regression classifier. First I tried tuning the hyperparameters for the model using the features that were selected by the random forests classifier. We observe that there is a minimal increase in accuracy. "
   ]
  },
  {
   "cell_type": "code",
   "execution_count": 82,
   "metadata": {},
   "outputs": [
    {
     "data": {
      "text/plain": [
       "GridSearchCV(cv=5, error_score='raise',\n",
       "       estimator=LogisticRegression(C=1.0, class_weight=None, dual=False, fit_intercept=True,\n",
       "          intercept_scaling=1, max_iter=100, multi_class='ovr', n_jobs=1,\n",
       "          penalty='l2', random_state=5, solver='liblinear', tol=0.0001,\n",
       "          verbose=0, warm_start=False),\n",
       "       fit_params=None, iid=True, n_jobs=1,\n",
       "       param_grid={'penalty': ['l2'], 'C': array([1.00000e-04, 2.63665e-04, 6.95193e-04, 1.83298e-03, 4.83293e-03,\n",
       "       1.27427e-02, 3.35982e-02, 8.85867e-02, 2.33572e-01, 6.15848e-01,\n",
       "       1.62378e+00, 4.28133e+00, 1.12884e+01, 2.97635e+01, 7.84760e+01,\n",
       "       2.06914e+02, 5.45559e+02, 1.43845e+03, 3.79269e+03, 1.00000e+04]), 'solver': ['sag']},\n",
       "       pre_dispatch='2*n_jobs', refit=True, return_train_score='warn',\n",
       "       scoring=None, verbose=0)"
      ]
     },
     "execution_count": 82,
     "metadata": {},
     "output_type": "execute_result"
    }
   ],
   "source": [
    "#Logistic Regression Model hyperparameter tuning\n",
    "logistic_regression = LogisticRegression(random_state =5)\n",
    "parameters =  {'penalty' : ['l2'],\n",
    "    'C' : np.logspace(-4, 4, 20),\n",
    "    'solver' : ['sag']}\n",
    "classifier1 = GridSearchCV(logistic_regression,parameters,cv = 5)\n",
    "classifier1.fit(X_important_train,y_train)\n"
   ]
  },
  {
   "cell_type": "code",
   "execution_count": 83,
   "metadata": {},
   "outputs": [
    {
     "data": {
      "text/plain": [
       "{'C': 0.0006951927961775605, 'penalty': 'l2', 'solver': 'sag'}"
      ]
     },
     "execution_count": 83,
     "metadata": {},
     "output_type": "execute_result"
    }
   ],
   "source": [
    "classifier1.best_params_"
   ]
  },
  {
   "cell_type": "code",
   "execution_count": 84,
   "metadata": {},
   "outputs": [
    {
     "data": {
      "text/plain": [
       "0.713555454130534"
      ]
     },
     "execution_count": 84,
     "metadata": {},
     "output_type": "execute_result"
    }
   ],
   "source": [
    "accuracy_score(y_test,classifier1.predict(X_important_test))"
   ]
  },
  {
   "cell_type": "markdown",
   "metadata": {},
   "source": [
    "Even after tuning the logistic regression model with the features selected from the random forests classifier, there is very little improvement in accuracy. As the improvement was minimal, I tried feature selection for logistic regression using Recursive Feature Elimination."
   ]
  },
  {
   "cell_type": "markdown",
   "metadata": {},
   "source": [
    "#### Feature Selection using Recursive Feature Selection for Logistic Regression"
   ]
  },
  {
   "cell_type": "code",
   "execution_count": 85,
   "metadata": {},
   "outputs": [
    {
     "name": "stdout",
     "output_type": "stream",
     "text": [
      "0.7248744865358284\n"
     ]
    }
   ],
   "source": [
    "### Selecting top 100 features using RFE for logistic regression\n",
    "lr = LogisticRegression ( random_state = 15, solver ='sag')\n",
    "selector = RFE(lr, 100, step=100)\n",
    "selector = selector.fit(X_train_std, y_train)\n",
    "X_tr = selector.transform(X_train_std)\n",
    "X_te = selector.transform(X_test_std)\n",
    "logistic_regression = LogisticRegression(random_state =5, solver='sag')\n",
    "logistic_regression.fit(X_tr,y_train)\n",
    "y_pred = logistic_regression.predict(X_te)\n",
    "print(accuracy_score(y_test,y_pred))"
   ]
  },
  {
   "cell_type": "markdown",
   "metadata": {},
   "source": [
    "As we can see, selecting top 100 features using RFE improves the accuracy from 71% to 72.5%. Using this method, I was able to find the optimal number of features required to learn the model well with the help of the Recursive feature selection method."
   ]
  },
  {
   "cell_type": "code",
   "execution_count": 86,
   "metadata": {},
   "outputs": [],
   "source": [
    "#finding the appropiate number of features\n",
    "acc_test=[]\n",
    "acc_train=[]\n",
    "for i in range(100,700,100):\n",
    "    lr = LogisticRegression ( random_state = 15, solver ='sag')\n",
    "    selector = RFE(lr,i, step=100)\n",
    "    selector = selector.fit(X_train_std, y_train)\n",
    "    X_tr = selector.transform(X_train_std)\n",
    "    X_te = selector.transform(X_test_std)\n",
    "    important = LogisticRegression(random_state =5, solver='sag')\n",
    "    important.fit(X_tr, y_train)\n",
    "    acc_test.append(accuracy_score(y_test,important.predict(X_te)))\n",
    "    acc_train.append(accuracy_score(y_train,important.predict(X_tr)))"
   ]
  },
  {
   "cell_type": "code",
   "execution_count": 87,
   "metadata": {},
   "outputs": [
    {
     "data": {
      "text/plain": [
       "Text(0.5,1,'Recusive Feature Elimination')"
      ]
     },
     "execution_count": 87,
     "metadata": {},
     "output_type": "execute_result"
    },
    {
     "data": {
      "image/png": "[encoded data removed]",
      "text/plain": [
       "<Figure size 432x288 with 1 Axes>"
      ]
     },
     "metadata": {},
     "output_type": "display_data"
    }
   ],
   "source": [
    "#plotting the graph\n",
    "plt.plot(range(100,700,100),acc_train,label = 'Training Accuracy')\n",
    "plt.plot(range(100,700,100),acc_test, label = 'Testing Accuracy')\n",
    "plt.xlabel('Number of features')\n",
    "plt.ylabel('Accuracy_Score')\n",
    "plt.legend(loc='lower right')\n",
    "plt.title('Recusive Feature Elimination')"
   ]
  },
  {
   "cell_type": "markdown",
   "metadata": {},
   "source": [
    "We can see that once the number of features reaches 300, the increase in the accuracy per feature does not make a difference. Therefore, I have used 300 features for the Logistic Regression Classifier."
   ]
  },
  {
   "cell_type": "code",
   "execution_count": 88,
   "metadata": {},
   "outputs": [],
   "source": [
    "#training a logistic regression model with 300 features\n",
    "lr = LogisticRegression ( random_state = 15, solver ='sag')\n",
    "selector = RFE(lr,300, step=100)\n",
    "selector = selector.fit(X_train_std, y_train)\n",
    "X_important_train = selector.transform(X_train_std)\n",
    "X_important_test = selector.transform(X_test_std)"
   ]
  },
  {
   "cell_type": "markdown",
   "metadata": {},
   "source": [
    "#### K-fold Cross Validation"
   ]
  },
  {
   "cell_type": "code",
   "execution_count": 93,
   "metadata": {},
   "outputs": [
    {
     "name": "stdout",
     "output_type": "stream",
     "text": [
      "Fold = 1. AUC = 0.8557927056381063. Accuracy = 0.7767256132344552. F-1 Score = 0.8042021010505253.\n",
      "Fold = 2. AUC = 0.8509034866637959. Accuracy = 0.772706526700137. F-1 Score = 0.8007601520304061.\n",
      "Fold = 3. AUC = 0.8559341147614344. Accuracy = 0.7692834322227293. F-1 Score = 0.7943868212324589.\n",
      "Fold = 4. AUC = 0.8567524823323793. Accuracy = 0.7704244637151986. F-1 Score = 0.7988804478208718.\n",
      "Fold = 5. AUC = 0.8496983538512533. Accuracy = 0.7690288713910761. F-1 Score = 0.7971943887775551.\n",
      " \n",
      "Mean AUC Score: 0.8538162286493938. Std Dev: 0.002913913083438026\n",
      "Mean Accuracy Score: 0.7716337814527192. Std Dev: 0.0028583100105411836\n",
      "Mean F-1 Score: 0.7990847821823633. Std Dev: 0.0033069621518618192\n"
     ]
    }
   ],
   "source": [
    "from sklearn.model_selection import StratifiedKFold\n",
    "cv = StratifiedKFold(n_splits = 5, random_state = 420)\n",
    "auc_scores = []\n",
    "accuracy_scores = []\n",
    "f1_scores = []\n",
    "\n",
    "fold = 1\n",
    "for train_idx, valid_idx in cv.split(X_important_train, y_train):\n",
    "    xtrain, xvalid = X_important_train[train_idx], X_important_train[valid_idx]\n",
    "    ytrain, yvalid = y_train[train_idx], y_train[valid_idx]\n",
    "\n",
    "    model1= LogisticRegression(random_state = 1, penalty='l2',solver = 'sag')\n",
    "    model1.fit(xtrain, ytrain)\n",
    "    \n",
    "    valid_preds=model1.predict(xvalid)\n",
    "    probs = model1.predict_proba(xvalid)\n",
    "    pred = probs[:,1]\n",
    "    \n",
    "    auc1 = roc_auc_score(yvalid, pred)\n",
    "    accuracy = accuracy_score(yvalid,valid_preds)\n",
    "    f1 = f1_score(yvalid,valid_preds)\n",
    "    \n",
    "    auc_scores.append(auc1)\n",
    "    accuracy_scores.append(accuracy)\n",
    "    f1_scores.append(f1)\n",
    "    print(\"Fold = {}. AUC = {}. Accuracy = {}. F-1 Score = {}.\".format(fold, auc1,accuracy,f1))\n",
    "\n",
    "    fold += 1\n",
    "print(' ')\n",
    "print(\"Mean AUC Score: {}. Std Dev: {}\".format(np.mean(auc_scores), np.std(auc_scores)))\n",
    "print(\"Mean Accuracy Score: {}. Std Dev: {}\".format(np.mean(accuracy_scores), np.std(accuracy_scores)))\n",
    "print(\"Mean F-1 Score: {}. Std Dev: {}\".format(np.mean(f1_scores), np.std(f1_scores)))\n"
   ]
  },
  {
   "cell_type": "code",
   "execution_count": 90,
   "metadata": {},
   "outputs": [
    {
     "name": "stdout",
     "output_type": "stream",
     "text": [
      "AUC_Score : 0.8540212878929596.\n",
      "Accuracy Score : 0.7721588315837518.\n",
      "F-1 Score : 0.799324650265316.\n"
     ]
    }
   ],
   "source": [
    "#Performace of testing set\n",
    "model1 = LogisticRegression (random_state = 15, solver ='sag')\n",
    "model1.fit(X_important_train, y_train)\n",
    "y_pred = model1.predict(X_important_test)\n",
    "probs = model1.predict_proba(X_important_test)\n",
    "pred = probs[:,1]\n",
    "print(\"AUC_Score : {}.\".format(roc_auc_score(y_test,pred)))\n",
    "print(\"Accuracy Score : {}.\".format(accuracy_score(y_test,y_pred)))\n",
    "print(\"F-1 Score : {}.\".format(f1_score(y_test,y_pred)))"
   ]
  },
  {
   "cell_type": "markdown",
   "metadata": {},
   "source": [
    "#### Confusion Matrix for the Classifier"
   ]
  },
  {
   "cell_type": "code",
   "execution_count": 96,
   "metadata": {},
   "outputs": [
    {
     "data": {
      "image/png": "[encoded data removed]",
      "text/plain": [
       "<Figure size 432x288 with 2 Axes>"
      ]
     },
     "metadata": {},
     "output_type": "display_data"
    }
   ],
   "source": [
    "#printing the confusion matrix\n",
    "labels = ['0','1']\n",
    "cm = confusion_matrix(y_test, y_pred)\n",
    "fig, ax = plt.subplots()\n",
    "im = ax.imshow(cm, interpolation='nearest', cmap = plt.cm.Blues)\n",
    "ax.figure.colorbar(im, ax=ax)\n",
    "ax.set(xticks=np.arange(cm.shape[1]),\n",
    "       yticks=np.arange(cm.shape[0]),\n",
    "           xticklabels=labels, yticklabels=labels,\n",
    "           title=\"Confusion Matrix of the Classifier\",\n",
    "           ylabel='True label',\n",
    "           xlabel='Predicted label')\n",
    "\n",
    "thresh = cm.max() / 2.\n",
    "for i in range(cm.shape[0]):\n",
    "    for j in range(cm.shape[1]):\n",
    "        ax.text(j, i, format(cm[i, j], 'd'),\n",
    "                ha=\"center\", va=\"center\",\n",
    "                color=\"white\" if cm[i, j] > thresh else \"black\")\n",
    "fig.tight_layout()\n",
    "plt.show()"
   ]
  },
  {
   "cell_type": "markdown",
   "metadata": {},
   "source": [
    "The confusion matrix for the logistic regression classifier is different from the Random Forest classifier even though they both have near similar f1 scores. We see that the logistic regression classifier has a large number of false negatives as compared to the random forests classifier. This is because of the default threshold used by the classifier. The threshold can be changed using the ROC curve shown below to get adjust the number of false positives and negatives according to our need."
   ]
  },
  {
   "cell_type": "markdown",
   "metadata": {},
   "source": [
    "#### ROC Curve"
   ]
  },
  {
   "cell_type": "code",
   "execution_count": 97,
   "metadata": {},
   "outputs": [
    {
     "data": {
      "image/png": "[encoded data removed]",
      "text/plain": [
       "<Figure size 432x288 with 1 Axes>"
      ]
     },
     "metadata": {},
     "output_type": "display_data"
    }
   ],
   "source": [
    "#plotting the ROC curve \n",
    "probs = model1.predict_proba(X_important_test)\n",
    "preds = probs[:,1]\n",
    "fpr, tpr, threshold = roc_curve(y_test, preds)\n",
    "roc_auc = auc(fpr, tpr)\n",
    "\n",
    "\n",
    "import matplotlib.pyplot as plt\n",
    "plt.title('Receiver Operating Characteristic')\n",
    "plt.plot(fpr, tpr, 'b', label = 'AUC = %0.2f' % roc_auc)\n",
    "plt.legend(loc = 'lower right')\n",
    "plt.plot([0, 1], [0, 1],'r--')\n",
    "plt.xlim([0, 1])\n",
    "plt.ylim([0, 1])\n",
    "plt.ylabel('True Positive Rate')\n",
    "plt.xlabel('False Positive Rate')\n",
    "plt.show()"
   ]
  },
  {
   "cell_type": "markdown",
   "metadata": {},
   "source": [
    "The AUC score for the logisitc regression model is 0.85 which means that it performs better than the Random Forest Classifier which had an AUC score of 0.8. "
   ]
  },
  {
   "cell_type": "markdown",
   "metadata": {},
   "source": [
    "### Concluding Remarks "
   ]
  },
  {
   "cell_type": "markdown",
   "metadata": {},
   "source": [
    "At first, data understanding was done by looking at basic statistics of each feature in the dataset. It was evident that the dataset was highly sparse and had high dimensionality. This led to the question of a class imbalance problem. A check confirmed that the problem was not present. Since the features had different ranges, standardization was required. Note that normalization was not done here as it is very sensitive to outliers. \n",
    "\n",
    "As a starting point, two models were built:\n",
    " - **Logistic Regression**:\n",
    "    Since the number of features in the dataset were very high, the coefficients in logistic regression could not converge during training. Hence, it was important to note that feature selection was important for this data.\n",
    "    \n",
    " - **Random Forest**: Two models were built here. One, with default parameters and another by specifying the max depth. Note that this was done as the former random forest classifier with default parameters overfit on the training data (as the training accuracy was 1). Therefore, the latter model was created by tuning a simple parameter, maximum depth d. This helped in overcoming the problem of overfitting. It is important to note that the optimal depth was found to be around 20.\n",
    "\n",
    "Next, we performed feature selection. Note that the methods were implemented on top of the previous (feature selection method's)  output. The following methods were implemented:\n",
    " - **One way ANOVA F test with Benjamini Hochberg Correction**: The dimensionality of the dataset reduced from 1000 to 419 using this method.\n",
    "\n",
    " - **Principal Component Analysis**: This method did not help us reduce the dimensionality as each of the 419 features contributed almost equally to the explained variance of the data.\n",
    " \n",
    " - **Random Forests Classifier**: This helped reduce the dimensionality from 419 to 100.\n",
    "\n",
    "After selecting 100 features using feature selection, I proceeded to build two models:\n",
    " - **Random Forest**: This model was tuned using GridSearchCV and a model was trained using these parameters and various metrics including AUC, F1-score, Confusion matrix and ROC curve were evaluated. This model performed close to the baseline model.\n",
    " \n",
    " - **Logistic Regression**: This model was trained on the reduced dataset consisting of only 100 features and it did not perform well as compared to the baseline model. As there was no improvement, we performed feature selection using Recursive Feature Elimination. This led to new subset of features (300 features) and the model was re-evaluated. This was done because, in any machine learning problem, if a model does not perform better than the baseline model, we update the current feature space and retrain the model. \n",
    " \n",
    "To conclude, we can say that the logistic regression performed very well on the data as compared to Random Forest Classifier model with a larger feature space of size 300 (compared to the 100). Note that it is okay to use this bigger feature space as long as computation is not a problem."
   ]
  },
  {
   "cell_type": "markdown",
   "metadata": {},
   "source": [
    "### Future Work"
   ]
  },
  {
   "cell_type": "markdown",
   "metadata": {},
   "source": [
    "Due to shortage of time, I decided to spend more time on model selection and evaluation. But, other feature selection techniques that I believed might work well were Boruta and Lasso. A hyperparameter tuning method which could have been tried would be RandomSearchCV. Other machine learning model which could have been implemented on this data would be Support Vector Classifiers (SVC)."
   ]
  }
 ],
 "metadata": {
  "kernelspec": {
   "display_name": "Python 3",
   "language": "python",
   "name": "python3"
  },
  "language_info": {
   "codemirror_mode": {
    "name": "ipython",
    "version": 3
   },
   "file_extension": ".py",
   "mimetype": "text/x-python",
   "name": "python",
   "nbconvert_exporter": "python",
   "pygments_lexer": "ipython3",
   "version": "3.6.5"
  }
 },
 "nbformat": 4,
 "nbformat_minor": 2
}
